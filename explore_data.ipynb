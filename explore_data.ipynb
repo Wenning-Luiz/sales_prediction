{
  "cells": [
    {
      "cell_type": "markdown",
      "metadata": {
        "id": "egDjYNMqTgIc"
      },
      "source": [
        "Importando as pacotes"
      ]
    },
    {
      "cell_type": "code",
      "execution_count": null,
      "metadata": {
        "id": "-cHErSm2TgIg"
      },
      "outputs": [],
      "source": [
        "#Técnica de Aprendizado de Maquina Utilizado: \n",
        "import pandas as pd"
      ]
    },
    {
      "cell_type": "markdown",
      "metadata": {
        "id": "M5FW9Jz-TgIh"
      },
      "source": [
        "Lendo os arquivos"
      ]
    },
    {
      "cell_type": "code",
      "source": [
        "try:\n",
        "  from google.colab import drive\n",
        "  drive.mount('/content/drive')\n",
        "except:\n",
        "  pass"
      ],
      "metadata": {
        "id": "KYf8ukB1rd6N",
        "colab": {
          "base_uri": "https://localhost:8080/"
        },
        "outputId": "9c638165-0206-4e35-8ea5-ddf7f4811d11"
      },
      "execution_count": null,
      "outputs": [
        {
          "output_type": "stream",
          "name": "stdout",
          "text": [
            "Drive already mounted at /content/drive; to attempt to forcibly remount, call drive.mount(\"/content/drive\", force_remount=True).\n"
          ]
        }
      ]
    },
    {
      "cell_type": "code",
      "execution_count": null,
      "metadata": {
        "id": "TpdGxoWATgIi"
      },
      "outputs": [],
      "source": [
        "try:\n",
        "  df_orders = pd.read_csv('dataset/olist_orders_dataset.csv.zip', compression='zip')\n",
        "  df_reviews = pd.read_csv('dataset/olist_order_reviews_dataset.csv.zip', compression='zip')\n",
        "  df_customers = pd.read_csv('dataset/olist_customers_dataset.csv.zip', compression='zip')\n",
        "  df_geolocation = pd.read_csv('dataset/olist_geolocation_dataset.csv.zip', compression='zip')\n",
        "  df_items = pd.read_csv('dataset/olist_order_items_dataset.csv.zip', compression='zip')\n",
        "  df_payments = pd.read_csv('dataset/olist_order_payments_dataset.csv.zip', compression='zip')\n",
        "  df_products = pd.read_csv('dataset/olist_products_dataset.csv.zip', compression='zip')\n",
        "except:\n",
        "  df_orders = pd.read_csv('drive/MyDrive/Code/cct/dataset/olist_orders_dataset.csv.zip', compression='zip')\n",
        "  df_reviews = pd.read_csv('drive/MyDrive/Code/cct/dataset/olist_order_reviews_dataset.csv.zip', compression='zip')\n",
        "  df_customers = pd.read_csv('drive/MyDrive/Code/cct/dataset/olist_customers_dataset.csv.zip', compression='zip')\n",
        "  df_geolocation = pd.read_csv('drive/MyDrive/Code/cct/dataset/olist_geolocation_dataset.csv.zip', compression='zip')\n",
        "  df_items = pd.read_csv('drive/MyDrive/Code/cct/dataset/olist_order_items_dataset.csv.zip', compression='zip')\n",
        "  df_payments = pd.read_csv('drive/MyDrive/Code/cct/dataset/olist_order_payments_dataset.csv.zip', compression='zip')\n",
        "  df_products = pd.read_csv('drive/MyDrive/Code/cct/dataset/olist_products_dataset.csv.zip', compression='zip')"
      ]
    },
    {
      "cell_type": "markdown",
      "metadata": {
        "id": "IbjyXoKYTgIj"
      },
      "source": [
        "Verificando os tipos"
      ]
    },
    {
      "cell_type": "code",
      "execution_count": null,
      "metadata": {
        "id": "bQ3Tb8LJTgIj",
        "outputId": "23e5dcd8-81f8-40f8-eab1-0da8909f9afa",
        "colab": {
          "base_uri": "https://localhost:8080/"
        }
      },
      "outputs": [
        {
          "output_type": "execute_result",
          "data": {
            "text/plain": [
              "order_id                         object\n",
              "customer_id                      object\n",
              "order_status                     object\n",
              "order_purchase_timestamp         object\n",
              "order_approved_at                object\n",
              "order_delivered_carrier_date     object\n",
              "order_delivered_customer_date    object\n",
              "order_estimated_delivery_date    object\n",
              "dtype: object"
            ]
          },
          "metadata": {},
          "execution_count": 4
        }
      ],
      "source": [
        "df_orders.dtypes"
      ]
    },
    {
      "cell_type": "code",
      "execution_count": null,
      "metadata": {
        "id": "Ozf2NM8LTgIk",
        "outputId": "db518e7d-2cf5-4810-df3b-4f43110e11f6",
        "colab": {
          "base_uri": "https://localhost:8080/"
        }
      },
      "outputs": [
        {
          "output_type": "execute_result",
          "data": {
            "text/plain": [
              "review_id                  object\n",
              "order_id                   object\n",
              "review_score                int64\n",
              "review_comment_title       object\n",
              "review_comment_message     object\n",
              "review_creation_date       object\n",
              "review_answer_timestamp    object\n",
              "dtype: object"
            ]
          },
          "metadata": {},
          "execution_count": 5
        }
      ],
      "source": [
        "df_reviews.dtypes"
      ]
    },
    {
      "cell_type": "markdown",
      "metadata": {
        "id": "8mW7zctsTgIl"
      },
      "source": [
        "Tratando as datas"
      ]
    },
    {
      "cell_type": "code",
      "execution_count": null,
      "metadata": {
        "id": "JHFGpi6ITgIl",
        "outputId": "8b6556b8-8cb2-4d5f-a1e8-9fe1965cc6fc",
        "colab": {
          "base_uri": "https://localhost:8080/"
        }
      },
      "outputs": [
        {
          "output_type": "execute_result",
          "data": {
            "text/plain": [
              "customer_id                 object\n",
              "customer_unique_id          object\n",
              "customer_zip_code_prefix     int64\n",
              "customer_city               object\n",
              "customer_state              object\n",
              "dtype: object"
            ]
          },
          "metadata": {},
          "execution_count": 6
        }
      ],
      "source": [
        "df_customers.dtypes"
      ]
    },
    {
      "cell_type": "code",
      "execution_count": null,
      "metadata": {
        "id": "BydmZkOSTgIm",
        "outputId": "f23f8cd9-c5a3-4072-8441-c826aef6d3da",
        "colab": {
          "base_uri": "https://localhost:8080/"
        }
      },
      "outputs": [
        {
          "output_type": "execute_result",
          "data": {
            "text/plain": [
              "geolocation_zip_code_prefix      int64\n",
              "geolocation_lat                float64\n",
              "geolocation_lng                float64\n",
              "geolocation_city                object\n",
              "geolocation_state               object\n",
              "dtype: object"
            ]
          },
          "metadata": {},
          "execution_count": 7
        }
      ],
      "source": [
        "df_geolocation.dtypes"
      ]
    },
    {
      "cell_type": "code",
      "execution_count": null,
      "metadata": {
        "id": "NwSRikB_TgIn",
        "outputId": "429854d9-a134-4a2f-b2bf-1fcdc116947e",
        "colab": {
          "base_uri": "https://localhost:8080/"
        }
      },
      "outputs": [
        {
          "output_type": "execute_result",
          "data": {
            "text/plain": [
              "order_id                object\n",
              "order_item_id            int64\n",
              "product_id              object\n",
              "seller_id               object\n",
              "shipping_limit_date     object\n",
              "price                  float64\n",
              "freight_value          float64\n",
              "dtype: object"
            ]
          },
          "metadata": {},
          "execution_count": 8
        }
      ],
      "source": [
        "df_items.dtypes"
      ]
    },
    {
      "cell_type": "code",
      "execution_count": null,
      "metadata": {
        "id": "IntYWAfVTgIo",
        "outputId": "f146283c-61e1-446c-e87e-6cbdbb5e4942",
        "colab": {
          "base_uri": "https://localhost:8080/"
        }
      },
      "outputs": [
        {
          "output_type": "execute_result",
          "data": {
            "text/plain": [
              "order_id                 object\n",
              "payment_sequential        int64\n",
              "payment_type             object\n",
              "payment_installments      int64\n",
              "payment_value           float64\n",
              "dtype: object"
            ]
          },
          "metadata": {},
          "execution_count": 9
        }
      ],
      "source": [
        "df_payments.dtypes"
      ]
    },
    {
      "cell_type": "code",
      "execution_count": null,
      "metadata": {
        "id": "nwOGXeUvTgIo",
        "outputId": "e5709a82-bdf0-4bd5-de35-b64e94c8dd1b",
        "colab": {
          "base_uri": "https://localhost:8080/"
        }
      },
      "outputs": [
        {
          "output_type": "execute_result",
          "data": {
            "text/plain": [
              "product_id                     object\n",
              "product_category_name          object\n",
              "product_name_lenght           float64\n",
              "product_description_lenght    float64\n",
              "product_photos_qty            float64\n",
              "product_weight_g              float64\n",
              "product_length_cm             float64\n",
              "product_height_cm             float64\n",
              "product_width_cm              float64\n",
              "dtype: object"
            ]
          },
          "metadata": {},
          "execution_count": 10
        }
      ],
      "source": [
        "\n",
        "df_products.dtypes"
      ]
    },
    {
      "cell_type": "code",
      "execution_count": null,
      "metadata": {
        "id": "a3xr5CugTgIo"
      },
      "outputs": [],
      "source": [
        "#Tratando bases\n",
        "#Base de Orders\n",
        "df_orders['order_purchase_timestamp'] = pd.to_datetime(df_orders['order_purchase_timestamp'], format = '%Y/%m/%d %H:%M:%S.%f')\n",
        "df_orders['order_approved_at'] = pd.to_datetime(df_orders['order_approved_at'], format = '%Y/%m/%d %H:%M:%S.%f')\n",
        "df_orders['order_delivered_carrier_date'] = pd.to_datetime(df_orders['order_delivered_carrier_date'], format = '%Y/%m/%d %H:%M:%S.%f')\n",
        "df_orders['order_delivered_customer_date'] = pd.to_datetime(df_orders['order_delivered_customer_date'], format = '%Y/%m/%d %H:%M:%S.%f')\n",
        "df_orders[\"order_estimated_delivery_date\"] = pd.to_datetime(df_orders[\"order_estimated_delivery_date\"], format = '%Y/%m/%d').dt.date\n",
        "\n",
        "#Base de Reviews\n",
        "df_reviews[\"review_creation_date\"] = pd.to_datetime(df_reviews[\"review_creation_date\"], format = '%Y/%m/%d').dt.date\n",
        "df_reviews['review_answer_timestamp'] = pd.to_datetime(df_reviews['review_answer_timestamp'], format = '%Y/%m/%d %H:%M:%S.%f')\n",
        "\n",
        "#Abrindo por datas\n",
        "df_orders['order_purchase_year'] = df_orders['order_purchase_timestamp'].apply(lambda x: x.year)\n",
        "df_orders['order_purchase_month'] = df_orders['order_purchase_timestamp'].apply(lambda x: x.month)\n",
        "df_orders['order_purchase_month_name'] = df_orders['order_purchase_timestamp'].apply(lambda x: x.strftime('%b'))\n",
        "df_orders['order_purchase_year_month'] = df_orders['order_purchase_timestamp'].apply(lambda x: x.strftime('%Y%m'))\n",
        "df_orders['order_purchase_date'] = df_orders['order_purchase_timestamp'].apply(lambda x: x.strftime('%Y%m%d'))\n",
        "\n",
        "df_orders['order_purchase_day'] = df_orders['order_purchase_timestamp'].apply(lambda x: x.day)\n",
        "df_orders['order_purchase_dayofweek'] = df_orders['order_purchase_timestamp'].apply(lambda x: x.dayofweek)\n",
        "df_orders['order_purchase_dayofweek_name'] = df_orders['order_purchase_timestamp'].apply(lambda x: x.strftime('%a'))\n",
        "\n",
        "df_orders['order_purchase_hour'] = df_orders['order_purchase_timestamp'].apply(lambda x: x.hour)\n",
        "hours_bins = [-0.1, 6, 12, 18, 23]\n",
        "hours_labels = ['Dawn', 'Morning', 'Afternoon', 'Night']\n",
        "df_orders['order_purchase_time_day'] = pd.cut(df_orders['order_purchase_hour'], hours_bins, labels=hours_labels)"
      ]
    },
    {
      "cell_type": "code",
      "execution_count": null,
      "metadata": {
        "id": "5E0Ovrg3TgIp"
      },
      "outputs": [],
      "source": [
        "#Juntando os datasets\n",
        "df_orders = pd.merge(df_orders, df_reviews, how = 'left', on = 'order_id')\n",
        "df_orders = pd.merge(df_orders, df_items, how = 'left', on = 'order_id')\n",
        "df_orders = pd.merge(df_orders, df_products, how = 'left', on = 'product_id')"
      ]
    },
    {
      "cell_type": "code",
      "source": [
        "#Valores Ausentes\n",
        "df_orders.isna().any()"
      ],
      "metadata": {
        "colab": {
          "base_uri": "https://localhost:8080/"
        },
        "id": "3L4BWxhlS-lJ",
        "outputId": "d1a0e92a-8efd-41cd-8fbd-b399a0b25ecc"
      },
      "execution_count": null,
      "outputs": [
        {
          "output_type": "execute_result",
          "data": {
            "text/plain": [
              "order_id                         False\n",
              "customer_id                      False\n",
              "order_status                     False\n",
              "order_purchase_timestamp         False\n",
              "order_approved_at                 True\n",
              "order_delivered_carrier_date      True\n",
              "order_delivered_customer_date     True\n",
              "order_estimated_delivery_date    False\n",
              "order_purchase_year              False\n",
              "order_purchase_month             False\n",
              "order_purchase_month_name        False\n",
              "order_purchase_year_month        False\n",
              "order_purchase_date              False\n",
              "order_purchase_day               False\n",
              "order_purchase_dayofweek         False\n",
              "order_purchase_dayofweek_name    False\n",
              "order_purchase_hour              False\n",
              "order_purchase_time_day          False\n",
              "review_id                         True\n",
              "review_score                      True\n",
              "review_comment_title              True\n",
              "review_comment_message            True\n",
              "review_creation_date              True\n",
              "review_answer_timestamp           True\n",
              "order_item_id                     True\n",
              "product_id                        True\n",
              "seller_id                         True\n",
              "shipping_limit_date               True\n",
              "price                             True\n",
              "freight_value                     True\n",
              "product_category_name             True\n",
              "product_name_lenght               True\n",
              "product_description_lenght        True\n",
              "product_photos_qty                True\n",
              "product_weight_g                  True\n",
              "product_length_cm                 True\n",
              "product_height_cm                 True\n",
              "product_width_cm                  True\n",
              "dtype: bool"
            ]
          },
          "metadata": {},
          "execution_count": 13
        }
      ]
    },
    {
      "cell_type": "code",
      "source": [
        "from scipy import stats \n",
        "def resumetable(df):\n",
        "    print(f\"Dataset Shape: {df.shape}\")\n",
        "    summary = pd.DataFrame(df.dtypes,columns=['dtypes'])\n",
        "    summary = summary.reset_index()\n",
        "    summary['Name'] = summary['index']\n",
        "    summary = summary[['Name','dtypes']]\n",
        "    summary['Missing'] = df.isnull().sum().values    \n",
        "    summary['Uniques'] = df.nunique().values\n",
        "    #summary['First Value'] = df.loc[0].values\n",
        "    #summary['Second Value'] = df.loc[1].values\n",
        "    #summary['Third Value'] = df.loc[2].values\n",
        "\n",
        "    for name in summary['Name'].value_counts().index:\n",
        "        summary.loc[summary['Name'] == name, 'Entropy'] = round(stats.entropy(df[name].value_counts(normalize=True), base=2),2) \n",
        "\n",
        "    return summary\n",
        "\n",
        "def cross_heatmap(df, cols, normalize=False, values=None, aggfunc=None):\n",
        "    temp = cols\n",
        "    cm = sns.light_palette(\"green\", as_cmap=True)\n",
        "    return pd.crosstab(df[temp[0]], df[temp[1]], \n",
        "                       normalize=normalize, values=values, aggfunc=aggfunc).style.background_gradient(cmap = cm)"
      ],
      "metadata": {
        "id": "B5PxAVQR3Ylm"
      },
      "execution_count": null,
      "outputs": []
    },
    {
      "cell_type": "code",
      "source": [
        "resumetable(df_orders)"
      ],
      "metadata": {
        "id": "HmLDPVb02yCa",
        "outputId": "5efffeb7-4dda-4a79-b360-6565b95a51fe",
        "colab": {
          "base_uri": "https://localhost:8080/",
          "height": 1000
        }
      },
      "execution_count": null,
      "outputs": [
        {
          "output_type": "stream",
          "name": "stdout",
          "text": [
            "Dataset Shape: (114092, 38)\n"
          ]
        },
        {
          "output_type": "execute_result",
          "data": {
            "text/plain": [
              "                             Name          dtypes  Missing  Uniques  Entropy\n",
              "0                        order_id          object        0    99441    16.50\n",
              "1                     customer_id          object        0    99441    16.50\n",
              "2                    order_status          object        0        8     0.25\n",
              "3        order_purchase_timestamp  datetime64[ns]        0    98875    16.49\n",
              "4               order_approved_at  datetime64[ns]      162    90733    16.32\n",
              "5    order_delivered_carrier_date  datetime64[ns]     1980    81018    16.07\n",
              "6   order_delivered_customer_date  datetime64[ns]     3253    95664    16.44\n",
              "7   order_estimated_delivery_date          object        0      459     8.47\n",
              "8             order_purchase_year           int64        0        3     1.02\n",
              "9            order_purchase_month           int64        0       12     3.53\n",
              "10      order_purchase_month_name          object        0       12     3.53\n",
              "11      order_purchase_year_month          object        0       25     4.21\n",
              "12            order_purchase_date          object        0      634     9.04\n",
              "13             order_purchase_day           int64        0       31     4.94\n",
              "14       order_purchase_dayofweek           int64        0        7     2.79\n",
              "15  order_purchase_dayofweek_name          object        0        7     2.79\n",
              "16            order_purchase_hour           int64        0       24     4.23\n",
              "17        order_purchase_time_day        category        0        4     1.78\n",
              "18                      review_id          object      961    98410    16.48\n",
              "19                   review_score         float64      961        5     1.77\n",
              "20           review_comment_title          object   100569     4527     9.97\n",
              "21         review_comment_message          object    65926    36159    14.72\n",
              "22           review_creation_date          object      961      636     8.77\n",
              "23        review_answer_timestamp  datetime64[ns]      961    98248    16.48\n",
              "24                  order_item_id         float64      778       21     0.72\n",
              "25                     product_id          object      778    32951    13.63\n",
              "26                      seller_id          object      778     3095     9.48\n",
              "27            shipping_limit_date          object      778    93318    16.38\n",
              "28                          price         float64      778     5968     9.58\n",
              "29                  freight_value         float64      778     6999    10.51\n",
              "30          product_category_name          object     2390       73     4.71\n",
              "31            product_name_lenght         float64     2390       66     5.03\n",
              "32     product_description_lenght         float64     2390     2960    10.44\n",
              "33             product_photos_qty         float64     2390       19     2.17\n",
              "34               product_weight_g         float64      796     2204     7.61\n",
              "35              product_length_cm         float64      796       99     5.01\n",
              "36              product_height_cm         float64      796      102     5.08\n",
              "37               product_width_cm         float64      796       95     4.79"
            ],
            "text/html": [
              "\n",
              "  <div id=\"df-5e574690-158c-487a-8962-9fffac191e95\">\n",
              "    <div class=\"colab-df-container\">\n",
              "      <div>\n",
              "<style scoped>\n",
              "    .dataframe tbody tr th:only-of-type {\n",
              "        vertical-align: middle;\n",
              "    }\n",
              "\n",
              "    .dataframe tbody tr th {\n",
              "        vertical-align: top;\n",
              "    }\n",
              "\n",
              "    .dataframe thead th {\n",
              "        text-align: right;\n",
              "    }\n",
              "</style>\n",
              "<table border=\"1\" class=\"dataframe\">\n",
              "  <thead>\n",
              "    <tr style=\"text-align: right;\">\n",
              "      <th></th>\n",
              "      <th>Name</th>\n",
              "      <th>dtypes</th>\n",
              "      <th>Missing</th>\n",
              "      <th>Uniques</th>\n",
              "      <th>Entropy</th>\n",
              "    </tr>\n",
              "  </thead>\n",
              "  <tbody>\n",
              "    <tr>\n",
              "      <th>0</th>\n",
              "      <td>order_id</td>\n",
              "      <td>object</td>\n",
              "      <td>0</td>\n",
              "      <td>99441</td>\n",
              "      <td>16.50</td>\n",
              "    </tr>\n",
              "    <tr>\n",
              "      <th>1</th>\n",
              "      <td>customer_id</td>\n",
              "      <td>object</td>\n",
              "      <td>0</td>\n",
              "      <td>99441</td>\n",
              "      <td>16.50</td>\n",
              "    </tr>\n",
              "    <tr>\n",
              "      <th>2</th>\n",
              "      <td>order_status</td>\n",
              "      <td>object</td>\n",
              "      <td>0</td>\n",
              "      <td>8</td>\n",
              "      <td>0.25</td>\n",
              "    </tr>\n",
              "    <tr>\n",
              "      <th>3</th>\n",
              "      <td>order_purchase_timestamp</td>\n",
              "      <td>datetime64[ns]</td>\n",
              "      <td>0</td>\n",
              "      <td>98875</td>\n",
              "      <td>16.49</td>\n",
              "    </tr>\n",
              "    <tr>\n",
              "      <th>4</th>\n",
              "      <td>order_approved_at</td>\n",
              "      <td>datetime64[ns]</td>\n",
              "      <td>162</td>\n",
              "      <td>90733</td>\n",
              "      <td>16.32</td>\n",
              "    </tr>\n",
              "    <tr>\n",
              "      <th>5</th>\n",
              "      <td>order_delivered_carrier_date</td>\n",
              "      <td>datetime64[ns]</td>\n",
              "      <td>1980</td>\n",
              "      <td>81018</td>\n",
              "      <td>16.07</td>\n",
              "    </tr>\n",
              "    <tr>\n",
              "      <th>6</th>\n",
              "      <td>order_delivered_customer_date</td>\n",
              "      <td>datetime64[ns]</td>\n",
              "      <td>3253</td>\n",
              "      <td>95664</td>\n",
              "      <td>16.44</td>\n",
              "    </tr>\n",
              "    <tr>\n",
              "      <th>7</th>\n",
              "      <td>order_estimated_delivery_date</td>\n",
              "      <td>object</td>\n",
              "      <td>0</td>\n",
              "      <td>459</td>\n",
              "      <td>8.47</td>\n",
              "    </tr>\n",
              "    <tr>\n",
              "      <th>8</th>\n",
              "      <td>order_purchase_year</td>\n",
              "      <td>int64</td>\n",
              "      <td>0</td>\n",
              "      <td>3</td>\n",
              "      <td>1.02</td>\n",
              "    </tr>\n",
              "    <tr>\n",
              "      <th>9</th>\n",
              "      <td>order_purchase_month</td>\n",
              "      <td>int64</td>\n",
              "      <td>0</td>\n",
              "      <td>12</td>\n",
              "      <td>3.53</td>\n",
              "    </tr>\n",
              "    <tr>\n",
              "      <th>10</th>\n",
              "      <td>order_purchase_month_name</td>\n",
              "      <td>object</td>\n",
              "      <td>0</td>\n",
              "      <td>12</td>\n",
              "      <td>3.53</td>\n",
              "    </tr>\n",
              "    <tr>\n",
              "      <th>11</th>\n",
              "      <td>order_purchase_year_month</td>\n",
              "      <td>object</td>\n",
              "      <td>0</td>\n",
              "      <td>25</td>\n",
              "      <td>4.21</td>\n",
              "    </tr>\n",
              "    <tr>\n",
              "      <th>12</th>\n",
              "      <td>order_purchase_date</td>\n",
              "      <td>object</td>\n",
              "      <td>0</td>\n",
              "      <td>634</td>\n",
              "      <td>9.04</td>\n",
              "    </tr>\n",
              "    <tr>\n",
              "      <th>13</th>\n",
              "      <td>order_purchase_day</td>\n",
              "      <td>int64</td>\n",
              "      <td>0</td>\n",
              "      <td>31</td>\n",
              "      <td>4.94</td>\n",
              "    </tr>\n",
              "    <tr>\n",
              "      <th>14</th>\n",
              "      <td>order_purchase_dayofweek</td>\n",
              "      <td>int64</td>\n",
              "      <td>0</td>\n",
              "      <td>7</td>\n",
              "      <td>2.79</td>\n",
              "    </tr>\n",
              "    <tr>\n",
              "      <th>15</th>\n",
              "      <td>order_purchase_dayofweek_name</td>\n",
              "      <td>object</td>\n",
              "      <td>0</td>\n",
              "      <td>7</td>\n",
              "      <td>2.79</td>\n",
              "    </tr>\n",
              "    <tr>\n",
              "      <th>16</th>\n",
              "      <td>order_purchase_hour</td>\n",
              "      <td>int64</td>\n",
              "      <td>0</td>\n",
              "      <td>24</td>\n",
              "      <td>4.23</td>\n",
              "    </tr>\n",
              "    <tr>\n",
              "      <th>17</th>\n",
              "      <td>order_purchase_time_day</td>\n",
              "      <td>category</td>\n",
              "      <td>0</td>\n",
              "      <td>4</td>\n",
              "      <td>1.78</td>\n",
              "    </tr>\n",
              "    <tr>\n",
              "      <th>18</th>\n",
              "      <td>review_id</td>\n",
              "      <td>object</td>\n",
              "      <td>961</td>\n",
              "      <td>98410</td>\n",
              "      <td>16.48</td>\n",
              "    </tr>\n",
              "    <tr>\n",
              "      <th>19</th>\n",
              "      <td>review_score</td>\n",
              "      <td>float64</td>\n",
              "      <td>961</td>\n",
              "      <td>5</td>\n",
              "      <td>1.77</td>\n",
              "    </tr>\n",
              "    <tr>\n",
              "      <th>20</th>\n",
              "      <td>review_comment_title</td>\n",
              "      <td>object</td>\n",
              "      <td>100569</td>\n",
              "      <td>4527</td>\n",
              "      <td>9.97</td>\n",
              "    </tr>\n",
              "    <tr>\n",
              "      <th>21</th>\n",
              "      <td>review_comment_message</td>\n",
              "      <td>object</td>\n",
              "      <td>65926</td>\n",
              "      <td>36159</td>\n",
              "      <td>14.72</td>\n",
              "    </tr>\n",
              "    <tr>\n",
              "      <th>22</th>\n",
              "      <td>review_creation_date</td>\n",
              "      <td>object</td>\n",
              "      <td>961</td>\n",
              "      <td>636</td>\n",
              "      <td>8.77</td>\n",
              "    </tr>\n",
              "    <tr>\n",
              "      <th>23</th>\n",
              "      <td>review_answer_timestamp</td>\n",
              "      <td>datetime64[ns]</td>\n",
              "      <td>961</td>\n",
              "      <td>98248</td>\n",
              "      <td>16.48</td>\n",
              "    </tr>\n",
              "    <tr>\n",
              "      <th>24</th>\n",
              "      <td>order_item_id</td>\n",
              "      <td>float64</td>\n",
              "      <td>778</td>\n",
              "      <td>21</td>\n",
              "      <td>0.72</td>\n",
              "    </tr>\n",
              "    <tr>\n",
              "      <th>25</th>\n",
              "      <td>product_id</td>\n",
              "      <td>object</td>\n",
              "      <td>778</td>\n",
              "      <td>32951</td>\n",
              "      <td>13.63</td>\n",
              "    </tr>\n",
              "    <tr>\n",
              "      <th>26</th>\n",
              "      <td>seller_id</td>\n",
              "      <td>object</td>\n",
              "      <td>778</td>\n",
              "      <td>3095</td>\n",
              "      <td>9.48</td>\n",
              "    </tr>\n",
              "    <tr>\n",
              "      <th>27</th>\n",
              "      <td>shipping_limit_date</td>\n",
              "      <td>object</td>\n",
              "      <td>778</td>\n",
              "      <td>93318</td>\n",
              "      <td>16.38</td>\n",
              "    </tr>\n",
              "    <tr>\n",
              "      <th>28</th>\n",
              "      <td>price</td>\n",
              "      <td>float64</td>\n",
              "      <td>778</td>\n",
              "      <td>5968</td>\n",
              "      <td>9.58</td>\n",
              "    </tr>\n",
              "    <tr>\n",
              "      <th>29</th>\n",
              "      <td>freight_value</td>\n",
              "      <td>float64</td>\n",
              "      <td>778</td>\n",
              "      <td>6999</td>\n",
              "      <td>10.51</td>\n",
              "    </tr>\n",
              "    <tr>\n",
              "      <th>30</th>\n",
              "      <td>product_category_name</td>\n",
              "      <td>object</td>\n",
              "      <td>2390</td>\n",
              "      <td>73</td>\n",
              "      <td>4.71</td>\n",
              "    </tr>\n",
              "    <tr>\n",
              "      <th>31</th>\n",
              "      <td>product_name_lenght</td>\n",
              "      <td>float64</td>\n",
              "      <td>2390</td>\n",
              "      <td>66</td>\n",
              "      <td>5.03</td>\n",
              "    </tr>\n",
              "    <tr>\n",
              "      <th>32</th>\n",
              "      <td>product_description_lenght</td>\n",
              "      <td>float64</td>\n",
              "      <td>2390</td>\n",
              "      <td>2960</td>\n",
              "      <td>10.44</td>\n",
              "    </tr>\n",
              "    <tr>\n",
              "      <th>33</th>\n",
              "      <td>product_photos_qty</td>\n",
              "      <td>float64</td>\n",
              "      <td>2390</td>\n",
              "      <td>19</td>\n",
              "      <td>2.17</td>\n",
              "    </tr>\n",
              "    <tr>\n",
              "      <th>34</th>\n",
              "      <td>product_weight_g</td>\n",
              "      <td>float64</td>\n",
              "      <td>796</td>\n",
              "      <td>2204</td>\n",
              "      <td>7.61</td>\n",
              "    </tr>\n",
              "    <tr>\n",
              "      <th>35</th>\n",
              "      <td>product_length_cm</td>\n",
              "      <td>float64</td>\n",
              "      <td>796</td>\n",
              "      <td>99</td>\n",
              "      <td>5.01</td>\n",
              "    </tr>\n",
              "    <tr>\n",
              "      <th>36</th>\n",
              "      <td>product_height_cm</td>\n",
              "      <td>float64</td>\n",
              "      <td>796</td>\n",
              "      <td>102</td>\n",
              "      <td>5.08</td>\n",
              "    </tr>\n",
              "    <tr>\n",
              "      <th>37</th>\n",
              "      <td>product_width_cm</td>\n",
              "      <td>float64</td>\n",
              "      <td>796</td>\n",
              "      <td>95</td>\n",
              "      <td>4.79</td>\n",
              "    </tr>\n",
              "  </tbody>\n",
              "</table>\n",
              "</div>\n",
              "      <button class=\"colab-df-convert\" onclick=\"convertToInteractive('df-5e574690-158c-487a-8962-9fffac191e95')\"\n",
              "              title=\"Convert this dataframe to an interactive table.\"\n",
              "              style=\"display:none;\">\n",
              "        \n",
              "  <svg xmlns=\"http://www.w3.org/2000/svg\" height=\"24px\"viewBox=\"0 0 24 24\"\n",
              "       width=\"24px\">\n",
              "    <path d=\"M0 0h24v24H0V0z\" fill=\"none\"/>\n",
              "    <path d=\"M18.56 5.44l.94 2.06.94-2.06 2.06-.94-2.06-.94-.94-2.06-.94 2.06-2.06.94zm-11 1L8.5 8.5l.94-2.06 2.06-.94-2.06-.94L8.5 2.5l-.94 2.06-2.06.94zm10 10l.94 2.06.94-2.06 2.06-.94-2.06-.94-.94-2.06-.94 2.06-2.06.94z\"/><path d=\"M17.41 7.96l-1.37-1.37c-.4-.4-.92-.59-1.43-.59-.52 0-1.04.2-1.43.59L10.3 9.45l-7.72 7.72c-.78.78-.78 2.05 0 2.83L4 21.41c.39.39.9.59 1.41.59.51 0 1.02-.2 1.41-.59l7.78-7.78 2.81-2.81c.8-.78.8-2.07 0-2.86zM5.41 20L4 18.59l7.72-7.72 1.47 1.35L5.41 20z\"/>\n",
              "  </svg>\n",
              "      </button>\n",
              "      \n",
              "  <style>\n",
              "    .colab-df-container {\n",
              "      display:flex;\n",
              "      flex-wrap:wrap;\n",
              "      gap: 12px;\n",
              "    }\n",
              "\n",
              "    .colab-df-convert {\n",
              "      background-color: #E8F0FE;\n",
              "      border: none;\n",
              "      border-radius: 50%;\n",
              "      cursor: pointer;\n",
              "      display: none;\n",
              "      fill: #1967D2;\n",
              "      height: 32px;\n",
              "      padding: 0 0 0 0;\n",
              "      width: 32px;\n",
              "    }\n",
              "\n",
              "    .colab-df-convert:hover {\n",
              "      background-color: #E2EBFA;\n",
              "      box-shadow: 0px 1px 2px rgba(60, 64, 67, 0.3), 0px 1px 3px 1px rgba(60, 64, 67, 0.15);\n",
              "      fill: #174EA6;\n",
              "    }\n",
              "\n",
              "    [theme=dark] .colab-df-convert {\n",
              "      background-color: #3B4455;\n",
              "      fill: #D2E3FC;\n",
              "    }\n",
              "\n",
              "    [theme=dark] .colab-df-convert:hover {\n",
              "      background-color: #434B5C;\n",
              "      box-shadow: 0px 1px 3px 1px rgba(0, 0, 0, 0.15);\n",
              "      filter: drop-shadow(0px 1px 2px rgba(0, 0, 0, 0.3));\n",
              "      fill: #FFFFFF;\n",
              "    }\n",
              "  </style>\n",
              "\n",
              "      <script>\n",
              "        const buttonEl =\n",
              "          document.querySelector('#df-5e574690-158c-487a-8962-9fffac191e95 button.colab-df-convert');\n",
              "        buttonEl.style.display =\n",
              "          google.colab.kernel.accessAllowed ? 'block' : 'none';\n",
              "\n",
              "        async function convertToInteractive(key) {\n",
              "          const element = document.querySelector('#df-5e574690-158c-487a-8962-9fffac191e95');\n",
              "          const dataTable =\n",
              "            await google.colab.kernel.invokeFunction('convertToInteractive',\n",
              "                                                     [key], {});\n",
              "          if (!dataTable) return;\n",
              "\n",
              "          const docLinkHtml = 'Like what you see? Visit the ' +\n",
              "            '<a target=\"_blank\" href=https://colab.research.google.com/notebooks/data_table.ipynb>data table notebook</a>'\n",
              "            + ' to learn more about interactive tables.';\n",
              "          element.innerHTML = '';\n",
              "          dataTable['output_type'] = 'display_data';\n",
              "          await google.colab.output.renderOutput(dataTable, element);\n",
              "          const docLink = document.createElement('div');\n",
              "          docLink.innerHTML = docLinkHtml;\n",
              "          element.appendChild(docLink);\n",
              "        }\n",
              "      </script>\n",
              "    </div>\n",
              "  </div>\n",
              "  "
            ]
          },
          "metadata": {},
          "execution_count": 15
        }
      ]
    },
    {
      "cell_type": "code",
      "source": [
        "#Outliers\n",
        "import matplotlib.pyplot as plt\n",
        "###\n",
        "##\n",
        "#\n",
        "\n",
        "#oiCust = order_items #pd.merge(order_items,orders,how='inner',on='order_id')\n",
        "#oiCust.head()\n",
        "#oiCust = pd.merge(oiCust,customers,how='inner',on='customer_unique_id')\n",
        "oiCust = df_orders.copy()\n",
        "oiCust['order_purchase_timestamp'] = pd.to_datetime(oiCust['order_purchase_timestamp'])\n",
        "oiCust['yearmonth'] = oiCust['order_purchase_timestamp'].dt.year*100 + oiCust['order_purchase_timestamp'].dt.month\n",
        "\n",
        "\n",
        "aggSalesPerDay = oiCust\n",
        "aggSalesPerDay.head()\n",
        "aggSalesPerDay['order_purchase_timestamp'] = pd.to_datetime(aggSalesPerDay['order_purchase_timestamp'])\n",
        "aggSalesPerDay['o_date'] = aggSalesPerDay['order_purchase_timestamp'].dt.date\n",
        "\n",
        "aggSalesPerDay = aggSalesPerDay.groupby('o_date').agg({'order_item_id': 'count','price':'sum','customer_id': lambda x: x.nunique(),'seller_id': lambda x: x.nunique(),})\n",
        "aggSalesPerDay.columns = ['sales_count','sales_sum','customer_count','sellers_count']\n",
        "aggSalesPerDay.reset_index(inplace=True)\n",
        "aggSalesPerDay['MeanSale'] = round(aggSalesPerDay['sales_sum'] / aggSalesPerDay['sales_count'],2)\n",
        "\n",
        "plt.plot(aggSalesPerDay['o_date'], aggSalesPerDay['sales_count'])\n",
        "plt.figure(figsize=(100,2))\n",
        "plt.rcParams['figure.figsize'] = [10, 5]\n",
        "plt.show()"
      ],
      "metadata": {
        "colab": {
          "base_uri": "https://localhost:8080/",
          "height": 175
        },
        "id": "s-ccS-anTyPJ",
        "outputId": "dcb7faeb-e68a-4344-be0e-003c65b3f950"
      },
      "execution_count": null,
      "outputs": [
        {
          "output_type": "display_data",
          "data": {
            "text/plain": [
              "<Figure size 720x144 with 1 Axes>"
            ],
            "image/png": "[encoded data removed]"
          },
          "metadata": {
            "needs_background": "light"
          }
        },
        {
          "output_type": "display_data",
          "data": {
            "text/plain": [
              "<Figure size 7200x144 with 0 Axes>"
            ]
          },
          "metadata": {}
        }
      ]
    },
    {
      "cell_type": "code",
      "source": [
        "#Dados Categóricos"
      ],
      "metadata": {
        "id": "PPQ6cBtiT6af"
      },
      "execution_count": null,
      "outputs": []
    },
    {
      "cell_type": "code",
      "execution_count": null,
      "metadata": {
        "id": "3bUde2uRTgIq",
        "outputId": "07053f1a-969d-4536-8b89-3d588da1a91d",
        "colab": {
          "base_uri": "https://localhost:8080/",
          "height": 962
        }
      },
      "outputs": [
        {
          "output_type": "display_data",
          "data": {
            "text/html": [
              "<html>\n",
              "<head><meta charset=\"utf-8\" /></head>\n",
              "<body>\n",
              "    <div>            <script src=\"https://cdnjs.cloudflare.com/ajax/libs/mathjax/2.7.5/MathJax.js?config=TeX-AMS-MML_SVG\"></script><script type=\"text/javascript\">if (window.MathJax) {MathJax.Hub.Config({SVG: {font: \"STIX-Web\"}});}</script>                <script type=\"text/javascript\">window.PlotlyConfig = {MathJaxConfig: 'local'};</script>\n",
              "        <script src=\"https://cdn.plot.ly/plotly-2.8.3.min.js\"></script>                <div id=\"1a175278-c4ab-4d2a-9312-c7112b7d3eed\" class=\"plotly-graph-div\" style=\"height:525px; width:100%;\"></div>            <script type=\"text/javascript\">                                    window.PLOTLYENV=window.PLOTLYENV || {};                                    if (document.getElementById(\"1a175278-c4ab-4d2a-9312-c7112b7d3eed\")) {                    Plotly.newPlot(                        \"1a175278-c4ab-4d2a-9312-c7112b7d3eed\",                        [{\"name\":\"Product value\",\"opacity\":0.8,\"x\":[\"2016-09-04\",\"2016-09-05\",\"2016-09-13\",\"2016-09-15\",\"2016-10-02\",\"2016-10-03\",\"2016-10-04\",\"2016-10-05\",\"2016-10-06\",\"2016-10-07\",\"2016-10-08\",\"2016-10-09\",\"2016-10-10\",\"2016-10-22\",\"2016-12-23\",\"2017-01-05\",\"2017-01-06\",\"2017-01-07\",\"2017-01-08\",\"2017-01-09\",\"2017-01-10\",\"2017-01-11\",\"2017-01-12\",\"2017-01-13\",\"2017-01-14\",\"2017-01-15\",\"2017-01-16\",\"2017-01-17\",\"2017-01-18\",\"2017-01-19\",\"2017-01-20\",\"2017-01-21\",\"2017-01-22\",\"2017-01-23\",\"2017-01-24\",\"2017-01-25\",\"2017-01-26\",\"2017-01-27\",\"2017-01-28\",\"2017-01-29\",\"2017-01-30\",\"2017-01-31\",\"2017-02-01\",\"2017-02-02\",\"2017-02-03\",\"2017-02-04\",\"2017-02-05\",\"2017-02-06\",\"2017-02-07\",\"2017-02-08\",\"2017-02-09\",\"2017-02-10\",\"2017-02-11\",\"2017-02-12\",\"2017-02-13\",\"2017-02-14\",\"2017-02-15\",\"2017-02-16\",\"2017-02-17\",\"2017-02-18\",\"2017-02-19\",\"2017-02-20\",\"2017-02-21\",\"2017-02-22\",\"2017-02-23\",\"2017-02-24\",\"2017-02-25\",\"2017-02-26\",\"2017-02-27\",\"2017-02-28\",\"2017-03-01\",\"2017-03-02\",\"2017-03-03\",\"2017-03-04\",\"2017-03-05\",\"2017-03-06\",\"2017-03-07\",\"2017-03-08\",\"2017-03-09\",\"2017-03-10\",\"2017-03-11\",\"2017-03-12\",\"2017-03-13\",\"2017-03-14\",\"2017-03-15\",\"2017-03-16\",\"2017-03-17\",\"2017-03-18\",\"2017-03-19\",\"2017-03-20\",\"2017-03-21\",\"2017-03-22\",\"2017-03-23\",\"2017-03-24\",\"2017-03-25\",\"2017-03-26\",\"2017-03-27\",\"2017-03-28\",\"2017-03-29\",\"2017-03-30\",\"2017-03-31\",\"2017-04-01\",\"2017-04-02\",\"2017-04-03\",\"2017-04-04\",\"2017-04-05\",\"2017-04-06\",\"2017-04-07\",\"2017-04-08\",\"2017-04-09\",\"2017-04-10\",\"2017-04-11\",\"2017-04-12\",\"2017-04-13\",\"2017-04-14\",\"2017-04-15\",\"2017-04-16\",\"2017-04-17\",\"2017-04-18\",\"2017-04-19\",\"2017-04-20\",\"2017-04-21\",\"2017-04-22\",\"2017-04-23\",\"2017-04-24\",\"2017-04-25\",\"2017-04-26\",\"2017-04-27\",\"2017-04-28\",\"2017-04-29\",\"2017-04-30\",\"2017-05-01\",\"2017-05-02\",\"2017-05-03\",\"2017-05-04\",\"2017-05-05\",\"2017-05-06\",\"2017-05-07\",\"2017-05-08\",\"2017-05-09\",\"2017-05-10\",\"2017-05-11\",\"2017-05-12\",\"2017-05-13\",\"2017-05-14\",\"2017-05-15\",\"2017-05-16\",\"2017-05-17\",\"2017-05-18\",\"2017-05-19\",\"2017-05-20\",\"2017-05-21\",\"2017-05-22\",\"2017-05-23\",\"2017-05-24\",\"2017-05-25\",\"2017-05-26\",\"2017-05-27\",\"2017-05-28\",\"2017-05-29\",\"2017-05-30\",\"2017-05-31\",\"2017-06-01\",\"2017-06-02\",\"2017-06-03\",\"2017-06-04\",\"2017-06-05\",\"2017-06-06\",\"2017-06-07\",\"2017-06-08\",\"2017-06-09\",\"2017-06-10\",\"2017-06-11\",\"2017-06-12\",\"2017-06-13\",\"2017-06-14\",\"2017-06-15\",\"2017-06-16\",\"2017-06-17\",\"2017-06-18\",\"2017-06-19\",\"2017-06-20\",\"2017-06-21\",\"2017-06-22\",\"2017-06-23\",\"2017-06-24\",\"2017-06-25\",\"2017-06-26\",\"2017-06-27\",\"2017-06-28\",\"2017-06-29\",\"2017-06-30\",\"2017-07-01\",\"2017-07-02\",\"2017-07-03\",\"2017-07-04\",\"2017-07-05\",\"2017-07-06\",\"2017-07-07\",\"2017-07-08\",\"2017-07-09\",\"2017-07-10\",\"2017-07-11\",\"2017-07-12\",\"2017-07-13\",\"2017-07-14\",\"2017-07-15\",\"2017-07-16\",\"2017-07-17\",\"2017-07-18\",\"2017-07-19\",\"2017-07-20\",\"2017-07-21\",\"2017-07-22\",\"2017-07-23\",\"2017-07-24\",\"2017-07-25\",\"2017-07-26\",\"2017-07-27\",\"2017-07-28\",\"2017-07-29\",\"2017-07-30\",\"2017-07-31\",\"2017-08-01\",\"2017-08-02\",\"2017-08-03\",\"2017-08-04\",\"2017-08-05\",\"2017-08-06\",\"2017-08-07\",\"2017-08-08\",\"2017-08-09\",\"2017-08-10\",\"2017-08-11\",\"2017-08-12\",\"2017-08-13\",\"2017-08-14\",\"2017-08-15\",\"2017-08-16\",\"2017-08-17\",\"2017-08-18\",\"2017-08-19\",\"2017-08-20\",\"2017-08-21\",\"2017-08-22\",\"2017-08-23\",\"2017-08-24\",\"2017-08-25\",\"2017-08-26\",\"2017-08-27\",\"2017-08-28\",\"2017-08-29\",\"2017-08-30\",\"2017-08-31\",\"2017-09-01\",\"2017-09-02\",\"2017-09-03\",\"2017-09-04\",\"2017-09-05\",\"2017-09-06\",\"2017-09-07\",\"2017-09-08\",\"2017-09-09\",\"2017-09-10\",\"2017-09-11\",\"2017-09-12\",\"2017-09-13\",\"2017-09-14\",\"2017-09-15\",\"2017-09-16\",\"2017-09-17\",\"2017-09-18\",\"2017-09-19\",\"2017-09-20\",\"2017-09-21\",\"2017-09-22\",\"2017-09-23\",\"2017-09-24\",\"2017-09-25\",\"2017-09-26\",\"2017-09-27\",\"2017-09-28\",\"2017-09-29\",\"2017-09-30\",\"2017-10-01\",\"2017-10-02\",\"2017-10-03\",\"2017-10-04\",\"2017-10-05\",\"2017-10-06\",\"2017-10-07\",\"2017-10-08\",\"2017-10-09\",\"2017-10-10\",\"2017-10-11\",\"2017-10-12\",\"2017-10-13\",\"2017-10-14\",\"2017-10-15\",\"2017-10-16\",\"2017-10-17\",\"2017-10-18\",\"2017-10-19\",\"2017-10-20\",\"2017-10-21\",\"2017-10-22\",\"2017-10-23\",\"2017-10-24\",\"2017-10-25\",\"2017-10-26\",\"2017-10-27\",\"2017-10-28\",\"2017-10-29\",\"2017-10-30\",\"2017-10-31\",\"2017-11-01\",\"2017-11-02\",\"2017-11-03\",\"2017-11-04\",\"2017-11-05\",\"2017-11-06\",\"2017-11-07\",\"2017-11-08\",\"2017-11-09\",\"2017-11-10\",\"2017-11-11\",\"2017-11-12\",\"2017-11-13\",\"2017-11-14\",\"2017-11-15\",\"2017-11-16\",\"2017-11-17\",\"2017-11-18\",\"2017-11-19\",\"2017-11-20\",\"2017-11-21\",\"2017-11-22\",\"2017-11-23\",\"2017-11-24\",\"2017-11-25\",\"2017-11-26\",\"2017-11-27\",\"2017-11-28\",\"2017-11-29\",\"2017-11-30\",\"2017-12-01\",\"2017-12-02\",\"2017-12-03\",\"2017-12-04\",\"2017-12-05\",\"2017-12-06\",\"2017-12-07\",\"2017-12-08\",\"2017-12-09\",\"2017-12-10\",\"2017-12-11\",\"2017-12-12\",\"2017-12-13\",\"2017-12-14\",\"2017-12-15\",\"2017-12-16\",\"2017-12-17\",\"2017-12-18\",\"2017-12-19\",\"2017-12-20\",\"2017-12-21\",\"2017-12-22\",\"2017-12-23\",\"2017-12-24\",\"2017-12-25\",\"2017-12-26\",\"2017-12-27\",\"2017-12-28\",\"2017-12-29\",\"2017-12-30\",\"2017-12-31\",\"2018-01-01\",\"2018-01-02\",\"2018-01-03\",\"2018-01-04\",\"2018-01-05\",\"2018-01-06\",\"2018-01-07\",\"2018-01-08\",\"2018-01-09\",\"2018-01-10\",\"2018-01-11\",\"2018-01-12\",\"2018-01-13\",\"2018-01-14\",\"2018-01-15\",\"2018-01-16\",\"2018-01-17\",\"2018-01-18\",\"2018-01-19\",\"2018-01-20\",\"2018-01-21\",\"2018-01-22\",\"2018-01-23\",\"2018-01-24\",\"2018-01-25\",\"2018-01-26\",\"2018-01-27\",\"2018-01-28\",\"2018-01-29\",\"2018-01-30\",\"2018-01-31\",\"2018-02-01\",\"2018-02-02\",\"2018-02-03\",\"2018-02-04\",\"2018-02-05\",\"2018-02-06\",\"2018-02-07\",\"2018-02-08\",\"2018-02-09\",\"2018-02-10\",\"2018-02-11\",\"2018-02-12\",\"2018-02-13\",\"2018-02-14\",\"2018-02-15\",\"2018-02-16\",\"2018-02-17\",\"2018-02-18\",\"2018-02-19\",\"2018-02-20\",\"2018-02-21\",\"2018-02-22\",\"2018-02-23\",\"2018-02-24\",\"2018-02-25\",\"2018-02-26\",\"2018-02-27\",\"2018-02-28\",\"2018-03-01\",\"2018-03-02\",\"2018-03-03\",\"2018-03-04\",\"2018-03-05\",\"2018-03-06\",\"2018-03-07\",\"2018-03-08\",\"2018-03-09\",\"2018-03-10\",\"2018-03-11\",\"2018-03-12\",\"2018-03-13\",\"2018-03-14\",\"2018-03-15\",\"2018-03-16\",\"2018-03-17\",\"2018-03-18\",\"2018-03-19\",\"2018-03-20\",\"2018-03-21\",\"2018-03-22\",\"2018-03-23\",\"2018-03-24\",\"2018-03-25\",\"2018-03-26\",\"2018-03-27\",\"2018-03-28\",\"2018-03-29\",\"2018-03-30\",\"2018-03-31\",\"2018-04-01\",\"2018-04-02\",\"2018-04-03\",\"2018-04-04\",\"2018-04-05\",\"2018-04-06\",\"2018-04-07\",\"2018-04-08\",\"2018-04-09\",\"2018-04-10\",\"2018-04-11\",\"2018-04-12\",\"2018-04-13\",\"2018-04-14\",\"2018-04-15\",\"2018-04-16\",\"2018-04-17\",\"2018-04-18\",\"2018-04-19\",\"2018-04-20\",\"2018-04-21\",\"2018-04-22\",\"2018-04-23\",\"2018-04-24\",\"2018-04-25\",\"2018-04-26\",\"2018-04-27\",\"2018-04-28\",\"2018-04-29\",\"2018-04-30\",\"2018-05-01\",\"2018-05-02\",\"2018-05-03\",\"2018-05-04\",\"2018-05-05\",\"2018-05-06\",\"2018-05-07\",\"2018-05-08\",\"2018-05-09\",\"2018-05-10\",\"2018-05-11\",\"2018-05-12\",\"2018-05-13\",\"2018-05-14\",\"2018-05-15\",\"2018-05-16\",\"2018-05-17\",\"2018-05-18\",\"2018-05-19\",\"2018-05-20\",\"2018-05-21\",\"2018-05-22\",\"2018-05-23\",\"2018-05-24\",\"2018-05-25\",\"2018-05-26\",\"2018-05-27\",\"2018-05-28\",\"2018-05-29\",\"2018-05-30\",\"2018-05-31\",\"2018-06-01\",\"2018-06-02\",\"2018-06-03\",\"2018-06-04\",\"2018-06-05\",\"2018-06-06\",\"2018-06-07\",\"2018-06-08\",\"2018-06-09\",\"2018-06-10\",\"2018-06-11\",\"2018-06-12\",\"2018-06-13\",\"2018-06-14\",\"2018-06-15\",\"2018-06-16\",\"2018-06-17\",\"2018-06-18\",\"2018-06-19\",\"2018-06-20\",\"2018-06-21\",\"2018-06-22\",\"2018-06-23\",\"2018-06-24\",\"2018-06-25\",\"2018-06-26\",\"2018-06-27\",\"2018-06-28\",\"2018-06-29\",\"2018-06-30\",\"2018-07-01\",\"2018-07-02\",\"2018-07-03\",\"2018-07-04\",\"2018-07-05\",\"2018-07-06\",\"2018-07-07\",\"2018-07-08\",\"2018-07-09\",\"2018-07-10\",\"2018-07-11\",\"2018-07-12\",\"2018-07-13\",\"2018-07-14\",\"2018-07-15\",\"2018-07-16\",\"2018-07-17\",\"2018-07-18\",\"2018-07-19\",\"2018-07-20\",\"2018-07-21\",\"2018-07-22\",\"2018-07-23\",\"2018-07-24\",\"2018-07-25\",\"2018-07-26\",\"2018-07-27\",\"2018-07-28\",\"2018-07-29\",\"2018-07-30\",\"2018-07-31\",\"2018-08-01\",\"2018-08-02\",\"2018-08-03\",\"2018-08-04\",\"2018-08-05\",\"2018-08-06\",\"2018-08-07\",\"2018-08-08\",\"2018-08-09\",\"2018-08-10\",\"2018-08-11\",\"2018-08-12\",\"2018-08-13\",\"2018-08-14\",\"2018-08-15\",\"2018-08-16\",\"2018-08-17\",\"2018-08-18\",\"2018-08-19\",\"2018-08-20\",\"2018-08-21\",\"2018-08-22\",\"2018-08-23\",\"2018-08-24\",\"2018-08-25\",\"2018-08-26\",\"2018-08-27\",\"2018-08-28\",\"2018-08-29\",\"2018-08-30\",\"2018-08-31\",\"2018-09-03\",\"2018-09-06\",\"2018-09-10\",\"2018-09-11\",\"2018-09-12\",\"2018-09-13\",\"2018-09-17\",\"2018-09-20\",\"2018-09-25\",\"2018-09-26\",\"2018-09-29\",\"2018-10-01\",\"2018-10-03\",\"2018-10-16\",\"2018-10-17\"],\"y\":[72.89,59.5,0.0,134.97,100.0,463.48,9940.960000000001,8343.25,7960.51,7228.05,8441.85,3336.9900000000002,3819.26,0.0,10.9,396.9,916.38,1351.9,709.58,673.79,1434.87,2776.16,2234.58,2505.58,1112.69,2349.47,3307.92,3371.43,4032.36,3553.95,4035.83,2525.5,3619.27,6581.47,5955.17,8977.23,13537.0,11432.95,5211.01,6457.66,10801.130000000001,11226.119999999999,8219.75,8917.64,10183.74,13968.16,8503.79,9539.44,14263.08,11958.27,9410.29,14222.64,4307.56,15126.15,10785.15,13133.91,6770.15,6348.04,6801.26,7493.13,3797.9,7878.3,8285.64,8317.85,6940.82,6682.21,4196.59,5446.68,5844.12,11220.76,12680.31,11377.0,12398.64,12658.51,7174.42,10336.64,11902.51,14612.46,11705.54,12418.77,10852.97,6637.06,17236.85,14243.66,15129.23,14269.78,11970.4,16433.82,6649.34,17096.49,11448.93,14291.18,16375.55,10177.87,9996.04,6320.95,16356.97,12373.11,8660.54,10025.6,12199.56,17697.37,9129.880000000001,9226.56,12301.65,19048.74,23213.89,13300.65,8785.09,8222.65,11732.31,8296.51,8209.2,9691.43,8168.66,8333.94,5726.96,9416.67,21286.72,12186.82,13549.130000000001,8457.71,12880.17,10038.95,15150.03,14671.74,15919.75,10300.710000000001,15790.49,11912.63,8091.16,12696.21,17640.2,10053.56,13588.54,13969.76,16354.880000000001,17216.670000000002,16148.41,20947.04,21192.28,18164.55,13000.01,9131.64,15219.7,18014.03,21533.48,18361.83,18245.13,19123.57,10632.41,17510.9,25901.19,17798.38,23579.87,15383.79,10651.18,14559.51,9262.62,18974.66,14345.48,20438.15,19334.15,19261.32,10450.35,13863.23,24494.53,14719.04,12792.66,19061.47,16091.35,8220.35,15198.46,14803.11,14064.09,20528.66,13062.51,12928.22,11264.77,18005.16,23064.72,10968.33,6183.65,8897.55,13282.98,8325.65,17876.17,13564.56,16681.61,14655.82,12169.53,12736.89,12207.65,11546.43,16611.05,15505.13,20842.46,22304.7,13662.87,10206.86,8197.38,17517.87,20213.79,19180.22,14880.98,18950.15,10930.56,13421.6,21679.95,28613.0,16545.34,19398.78,13682.25,11561.710000000001,12163.56,19992.41,17482.53,11810.52,15724.93,20043.16,15964.27,13034.77,17422.82,21765.03,18147.0,19245.31,18425.54,12010.89,14247.94,23325.74,18661.63,20756.52,20561.44,20200.28,14026.66,12334.19,18296.26,24203.2,24603.32,18553.81,17251.88,12910.13,12988.98,22635.95,16681.59,15873.61,13394.07,15286.58,10141.69,13602.58,22398.32,34291.48,31095.86,20671.51,28703.11,18128.66,28078.04,25020.96,20981.55,25624.61,16893.5,12003.36,15261.42,17810.27,23604.65,27193.0,27593.28,22557.76,18418.26,21147.37,20003.41,28487.81,20081.94,22102.55,19015.53,17044.45,10563.4,13063.65,18142.25,21716.89,20646.920000000002,23264.52,30913.56,12685.49,19027.26,21764.65,26376.57,21276.6,25517.52,17084.670000000002,15376.02,16742.28,30427.78,28151.13,22829.25,18754.23,23001.09,13604.6,18751.85,30705.14,30440.84,27257.79,23681.71,18823.19,15065.43,19908.61,22377.1,22071.27,17601.95,22573.15,20377.58,16539.21,17457.55,20490.13,23813.0,19383.61,21263.73,22844.05,19417.35,17606.13,28600.29,20919.7,19240.51,25053.34,20223.84,23292.07,23167.16,24510.54,27257.68,23796.29,28268.82,29378.97,23342.4,20197.55,44399.27,34406.63,25049.47,45412.87,154461.88,62817.08,45729.12,48667.6,47886.55,39834.75,31329.58,40253.41,31263.13,29262.920000000002,47348.52,33632.37,39957.86,28055.78,29847.46,20027.04,24855.48,34156.29,33686.61,30025.97,25286.23,27382.2,20296.28,19542.41,29162.11,20751.89,28170.03,18620.12,14935.3,12875.05,5759.01,10475.23,20549.43,17700.4,15037.49,16072.710000000001,13042.65,8685.77,6948.21,25315.0,31886.72,35639.340000000004,28189.09,27609.670000000002,29433.010000000002,38801.3,30643.9,38479.53,40106.96,31515.33,28351.27,31361.25,38330.3,44311.020000000004,36089.22,28097.56,30069.77,22511.58,23829.829999999998,37369.03,34897.65,32531.97,29773.86,34064.9,22136.98,24100.75,30481.32,29666.73,33115.69,30640.15,27816.49,23448.66,24221.49,37544.63,34368.38,31751.03,27593.71,30989.97,21365.86,22564.97,23398.53,24129.78,37724.65,32451.510000000002,27174.97,25035.760000000002,24706.41,28272.63,36664.57,33019.86,33601.4,29122.12,24816.3,30222.36,43797.86,41357.67,45789.49,40265.46,32059.95,26588.94,33111.19,38372.07,39278.69,36207.79,28337.27,28459.34,26203.91,31320.43,30843.56,36074.24,23735.49,44625.36,32972.44,20078.5,31174.13,44661.090000000004,36146.05,39741.93,31119.41,29621.239999999998,23787.77,25557.29,35779.01,34732.56,29713.34,28926.73,22088.14,25283.73,29396.66,40279.1,36246.51,38192.63,36058.79,27784.74,25557.38,23463.85,50362.73,27916.55,40782.96,34146.18,31150.36,18845.7,30524.04,40412.26,36705.87,39472.71,43391.21,28353.84,18966.34,27350.9,37814.21,43083.77,40995.02,31631.36,40752.54,23560.56,20011.69,35682.61,33163.8,38610.71,42497.77,39730.93,28306.45,28565.97,54195.47,47835.41,43679.11,51458.67,37859.19,29604.14,31313.52,53842.38,41119.85,56294.23,31518.46,31885.32,25201.29,19586.54,25404.06,27793.91,17501.05,20073.26,15888.92,14799.17,12523.25,26877.47,25572.08,19214.0,25150.28,32298.92,25266.62,28487.56,28622.4,30709.36,26214.3,37020.4,26870.41,29987.81,25501.97,49669.7,40394.0,34616.96,27504.6,26617.56,24616.05,17316.33,34718.3,34630.33,28793.99,27703.58,24807.27,17501.92,24432.6,36135.52,30957.57,26496.48,32171.97,20511.88,15379.880000000001,24369.47,23194.82,26307.31,35671.85,28809.33,19005.54,9076.56,14410.79,19564.85,18724.57,18519.98,28891.77,27644.23,22423.39,30037.49,31344.69,30544.47,42001.23,39253.48,32031.44,21140.48,27843.32,39911.22,41660.75,40417.5,35292.72,28371.75,25210.12,31434.079999999998,39070.66,45316.28,40553.8,38462.26,42075.18,35511.96,35583.76,56427.39,49178.98,43333.07,40040.28,33424.73,25960.93,31524.21,38613.13,44192.84,45574.04,35707.54,31767.86,24340.95,25487.39,34479.5,26323.06,20297.13,17030.87,9633.61,10599.41,8070.71,5345.91,3673.91,1546.04,0.0,0.0,145.0,0.0,0.0,0.0,0.0,0.0,0.0,0.0,0.0,0.0,0.0,0.0,0.0,0.0,0.0],\"type\":\"scatter\"},{\"name\":\"Freight value\",\"opacity\":0.8,\"x\":[\"2016-09-04\",\"2016-09-05\",\"2016-09-13\",\"2016-09-15\",\"2016-10-02\",\"2016-10-03\",\"2016-10-04\",\"2016-10-05\",\"2016-10-06\",\"2016-10-07\",\"2016-10-08\",\"2016-10-09\",\"2016-10-10\",\"2016-10-22\",\"2016-12-23\",\"2017-01-05\",\"2017-01-06\",\"2017-01-07\",\"2017-01-08\",\"2017-01-09\",\"2017-01-10\",\"2017-01-11\",\"2017-01-12\",\"2017-01-13\",\"2017-01-14\",\"2017-01-15\",\"2017-01-16\",\"2017-01-17\",\"2017-01-18\",\"2017-01-19\",\"2017-01-20\",\"2017-01-21\",\"2017-01-22\",\"2017-01-23\",\"2017-01-24\",\"2017-01-25\",\"2017-01-26\",\"2017-01-27\",\"2017-01-28\",\"2017-01-29\",\"2017-01-30\",\"2017-01-31\",\"2017-02-01\",\"2017-02-02\",\"2017-02-03\",\"2017-02-04\",\"2017-02-05\",\"2017-02-06\",\"2017-02-07\",\"2017-02-08\",\"2017-02-09\",\"2017-02-10\",\"2017-02-11\",\"2017-02-12\",\"2017-02-13\",\"2017-02-14\",\"2017-02-15\",\"2017-02-16\",\"2017-02-17\",\"2017-02-18\",\"2017-02-19\",\"2017-02-20\",\"2017-02-21\",\"2017-02-22\",\"2017-02-23\",\"2017-02-24\",\"2017-02-25\",\"2017-02-26\",\"2017-02-27\",\"2017-02-28\",\"2017-03-01\",\"2017-03-02\",\"2017-03-03\",\"2017-03-04\",\"2017-03-05\",\"2017-03-06\",\"2017-03-07\",\"2017-03-08\",\"2017-03-09\",\"2017-03-10\",\"2017-03-11\",\"2017-03-12\",\"2017-03-13\",\"2017-03-14\",\"2017-03-15\",\"2017-03-16\",\"2017-03-17\",\"2017-03-18\",\"2017-03-19\",\"2017-03-20\",\"2017-03-21\",\"2017-03-22\",\"2017-03-23\",\"2017-03-24\",\"2017-03-25\",\"2017-03-26\",\"2017-03-27\",\"2017-03-28\",\"2017-03-29\",\"2017-03-30\",\"2017-03-31\",\"2017-04-01\",\"2017-04-02\",\"2017-04-03\",\"2017-04-04\",\"2017-04-05\",\"2017-04-06\",\"2017-04-07\",\"2017-04-08\",\"2017-04-09\",\"2017-04-10\",\"2017-04-11\",\"2017-04-12\",\"2017-04-13\",\"2017-04-14\",\"2017-04-15\",\"2017-04-16\",\"2017-04-17\",\"2017-04-18\",\"2017-04-19\",\"2017-04-20\",\"2017-04-21\",\"2017-04-22\",\"2017-04-23\",\"2017-04-24\",\"2017-04-25\",\"2017-04-26\",\"2017-04-27\",\"2017-04-28\",\"2017-04-29\",\"2017-04-30\",\"2017-05-01\",\"2017-05-02\",\"2017-05-03\",\"2017-05-04\",\"2017-05-05\",\"2017-05-06\",\"2017-05-07\",\"2017-05-08\",\"2017-05-09\",\"2017-05-10\",\"2017-05-11\",\"2017-05-12\",\"2017-05-13\",\"2017-05-14\",\"2017-05-15\",\"2017-05-16\",\"2017-05-17\",\"2017-05-18\",\"2017-05-19\",\"2017-05-20\",\"2017-05-21\",\"2017-05-22\",\"2017-05-23\",\"2017-05-24\",\"2017-05-25\",\"2017-05-26\",\"2017-05-27\",\"2017-05-28\",\"2017-05-29\",\"2017-05-30\",\"2017-05-31\",\"2017-06-01\",\"2017-06-02\",\"2017-06-03\",\"2017-06-04\",\"2017-06-05\",\"2017-06-06\",\"2017-06-07\",\"2017-06-08\",\"2017-06-09\",\"2017-06-10\",\"2017-06-11\",\"2017-06-12\",\"2017-06-13\",\"2017-06-14\",\"2017-06-15\",\"2017-06-16\",\"2017-06-17\",\"2017-06-18\",\"2017-06-19\",\"2017-06-20\",\"2017-06-21\",\"2017-06-22\",\"2017-06-23\",\"2017-06-24\",\"2017-06-25\",\"2017-06-26\",\"2017-06-27\",\"2017-06-28\",\"2017-06-29\",\"2017-06-30\",\"2017-07-01\",\"2017-07-02\",\"2017-07-03\",\"2017-07-04\",\"2017-07-05\",\"2017-07-06\",\"2017-07-07\",\"2017-07-08\",\"2017-07-09\",\"2017-07-10\",\"2017-07-11\",\"2017-07-12\",\"2017-07-13\",\"2017-07-14\",\"2017-07-15\",\"2017-07-16\",\"2017-07-17\",\"2017-07-18\",\"2017-07-19\",\"2017-07-20\",\"2017-07-21\",\"2017-07-22\",\"2017-07-23\",\"2017-07-24\",\"2017-07-25\",\"2017-07-26\",\"2017-07-27\",\"2017-07-28\",\"2017-07-29\",\"2017-07-30\",\"2017-07-31\",\"2017-08-01\",\"2017-08-02\",\"2017-08-03\",\"2017-08-04\",\"2017-08-05\",\"2017-08-06\",\"2017-08-07\",\"2017-08-08\",\"2017-08-09\",\"2017-08-10\",\"2017-08-11\",\"2017-08-12\",\"2017-08-13\",\"2017-08-14\",\"2017-08-15\",\"2017-08-16\",\"2017-08-17\",\"2017-08-18\",\"2017-08-19\",\"2017-08-20\",\"2017-08-21\",\"2017-08-22\",\"2017-08-23\",\"2017-08-24\",\"2017-08-25\",\"2017-08-26\",\"2017-08-27\",\"2017-08-28\",\"2017-08-29\",\"2017-08-30\",\"2017-08-31\",\"2017-09-01\",\"2017-09-02\",\"2017-09-03\",\"2017-09-04\",\"2017-09-05\",\"2017-09-06\",\"2017-09-07\",\"2017-09-08\",\"2017-09-09\",\"2017-09-10\",\"2017-09-11\",\"2017-09-12\",\"2017-09-13\",\"2017-09-14\",\"2017-09-15\",\"2017-09-16\",\"2017-09-17\",\"2017-09-18\",\"2017-09-19\",\"2017-09-20\",\"2017-09-21\",\"2017-09-22\",\"2017-09-23\",\"2017-09-24\",\"2017-09-25\",\"2017-09-26\",\"2017-09-27\",\"2017-09-28\",\"2017-09-29\",\"2017-09-30\",\"2017-10-01\",\"2017-10-02\",\"2017-10-03\",\"2017-10-04\",\"2017-10-05\",\"2017-10-06\",\"2017-10-07\",\"2017-10-08\",\"2017-10-09\",\"2017-10-10\",\"2017-10-11\",\"2017-10-12\",\"2017-10-13\",\"2017-10-14\",\"2017-10-15\",\"2017-10-16\",\"2017-10-17\",\"2017-10-18\",\"2017-10-19\",\"2017-10-20\",\"2017-10-21\",\"2017-10-22\",\"2017-10-23\",\"2017-10-24\",\"2017-10-25\",\"2017-10-26\",\"2017-10-27\",\"2017-10-28\",\"2017-10-29\",\"2017-10-30\",\"2017-10-31\",\"2017-11-01\",\"2017-11-02\",\"2017-11-03\",\"2017-11-04\",\"2017-11-05\",\"2017-11-06\",\"2017-11-07\",\"2017-11-08\",\"2017-11-09\",\"2017-11-10\",\"2017-11-11\",\"2017-11-12\",\"2017-11-13\",\"2017-11-14\",\"2017-11-15\",\"2017-11-16\",\"2017-11-17\",\"2017-11-18\",\"2017-11-19\",\"2017-11-20\",\"2017-11-21\",\"2017-11-22\",\"2017-11-23\",\"2017-11-24\",\"2017-11-25\",\"2017-11-26\",\"2017-11-27\",\"2017-11-28\",\"2017-11-29\",\"2017-11-30\",\"2017-12-01\",\"2017-12-02\",\"2017-12-03\",\"2017-12-04\",\"2017-12-05\",\"2017-12-06\",\"2017-12-07\",\"2017-12-08\",\"2017-12-09\",\"2017-12-10\",\"2017-12-11\",\"2017-12-12\",\"2017-12-13\",\"2017-12-14\",\"2017-12-15\",\"2017-12-16\",\"2017-12-17\",\"2017-12-18\",\"2017-12-19\",\"2017-12-20\",\"2017-12-21\",\"2017-12-22\",\"2017-12-23\",\"2017-12-24\",\"2017-12-25\",\"2017-12-26\",\"2017-12-27\",\"2017-12-28\",\"2017-12-29\",\"2017-12-30\",\"2017-12-31\",\"2018-01-01\",\"2018-01-02\",\"2018-01-03\",\"2018-01-04\",\"2018-01-05\",\"2018-01-06\",\"2018-01-07\",\"2018-01-08\",\"2018-01-09\",\"2018-01-10\",\"2018-01-11\",\"2018-01-12\",\"2018-01-13\",\"2018-01-14\",\"2018-01-15\",\"2018-01-16\",\"2018-01-17\",\"2018-01-18\",\"2018-01-19\",\"2018-01-20\",\"2018-01-21\",\"2018-01-22\",\"2018-01-23\",\"2018-01-24\",\"2018-01-25\",\"2018-01-26\",\"2018-01-27\",\"2018-01-28\",\"2018-01-29\",\"2018-01-30\",\"2018-01-31\",\"2018-02-01\",\"2018-02-02\",\"2018-02-03\",\"2018-02-04\",\"2018-02-05\",\"2018-02-06\",\"2018-02-07\",\"2018-02-08\",\"2018-02-09\",\"2018-02-10\",\"2018-02-11\",\"2018-02-12\",\"2018-02-13\",\"2018-02-14\",\"2018-02-15\",\"2018-02-16\",\"2018-02-17\",\"2018-02-18\",\"2018-02-19\",\"2018-02-20\",\"2018-02-21\",\"2018-02-22\",\"2018-02-23\",\"2018-02-24\",\"2018-02-25\",\"2018-02-26\",\"2018-02-27\",\"2018-02-28\",\"2018-03-01\",\"2018-03-02\",\"2018-03-03\",\"2018-03-04\",\"2018-03-05\",\"2018-03-06\",\"2018-03-07\",\"2018-03-08\",\"2018-03-09\",\"2018-03-10\",\"2018-03-11\",\"2018-03-12\",\"2018-03-13\",\"2018-03-14\",\"2018-03-15\",\"2018-03-16\",\"2018-03-17\",\"2018-03-18\",\"2018-03-19\",\"2018-03-20\",\"2018-03-21\",\"2018-03-22\",\"2018-03-23\",\"2018-03-24\",\"2018-03-25\",\"2018-03-26\",\"2018-03-27\",\"2018-03-28\",\"2018-03-29\",\"2018-03-30\",\"2018-03-31\",\"2018-04-01\",\"2018-04-02\",\"2018-04-03\",\"2018-04-04\",\"2018-04-05\",\"2018-04-06\",\"2018-04-07\",\"2018-04-08\",\"2018-04-09\",\"2018-04-10\",\"2018-04-11\",\"2018-04-12\",\"2018-04-13\",\"2018-04-14\",\"2018-04-15\",\"2018-04-16\",\"2018-04-17\",\"2018-04-18\",\"2018-04-19\",\"2018-04-20\",\"2018-04-21\",\"2018-04-22\",\"2018-04-23\",\"2018-04-24\",\"2018-04-25\",\"2018-04-26\",\"2018-04-27\",\"2018-04-28\",\"2018-04-29\",\"2018-04-30\",\"2018-05-01\",\"2018-05-02\",\"2018-05-03\",\"2018-05-04\",\"2018-05-05\",\"2018-05-06\",\"2018-05-07\",\"2018-05-08\",\"2018-05-09\",\"2018-05-10\",\"2018-05-11\",\"2018-05-12\",\"2018-05-13\",\"2018-05-14\",\"2018-05-15\",\"2018-05-16\",\"2018-05-17\",\"2018-05-18\",\"2018-05-19\",\"2018-05-20\",\"2018-05-21\",\"2018-05-22\",\"2018-05-23\",\"2018-05-24\",\"2018-05-25\",\"2018-05-26\",\"2018-05-27\",\"2018-05-28\",\"2018-05-29\",\"2018-05-30\",\"2018-05-31\",\"2018-06-01\",\"2018-06-02\",\"2018-06-03\",\"2018-06-04\",\"2018-06-05\",\"2018-06-06\",\"2018-06-07\",\"2018-06-08\",\"2018-06-09\",\"2018-06-10\",\"2018-06-11\",\"2018-06-12\",\"2018-06-13\",\"2018-06-14\",\"2018-06-15\",\"2018-06-16\",\"2018-06-17\",\"2018-06-18\",\"2018-06-19\",\"2018-06-20\",\"2018-06-21\",\"2018-06-22\",\"2018-06-23\",\"2018-06-24\",\"2018-06-25\",\"2018-06-26\",\"2018-06-27\",\"2018-06-28\",\"2018-06-29\",\"2018-06-30\",\"2018-07-01\",\"2018-07-02\",\"2018-07-03\",\"2018-07-04\",\"2018-07-05\",\"2018-07-06\",\"2018-07-07\",\"2018-07-08\",\"2018-07-09\",\"2018-07-10\",\"2018-07-11\",\"2018-07-12\",\"2018-07-13\",\"2018-07-14\",\"2018-07-15\",\"2018-07-16\",\"2018-07-17\",\"2018-07-18\",\"2018-07-19\",\"2018-07-20\",\"2018-07-21\",\"2018-07-22\",\"2018-07-23\",\"2018-07-24\",\"2018-07-25\",\"2018-07-26\",\"2018-07-27\",\"2018-07-28\",\"2018-07-29\",\"2018-07-30\",\"2018-07-31\",\"2018-08-01\",\"2018-08-02\",\"2018-08-03\",\"2018-08-04\",\"2018-08-05\",\"2018-08-06\",\"2018-08-07\",\"2018-08-08\",\"2018-08-09\",\"2018-08-10\",\"2018-08-11\",\"2018-08-12\",\"2018-08-13\",\"2018-08-14\",\"2018-08-15\",\"2018-08-16\",\"2018-08-17\",\"2018-08-18\",\"2018-08-19\",\"2018-08-20\",\"2018-08-21\",\"2018-08-22\",\"2018-08-23\",\"2018-08-24\",\"2018-08-25\",\"2018-08-26\",\"2018-08-27\",\"2018-08-28\",\"2018-08-29\",\"2018-08-30\",\"2018-08-31\",\"2018-09-03\",\"2018-09-06\",\"2018-09-10\",\"2018-09-11\",\"2018-09-12\",\"2018-09-13\",\"2018-09-17\",\"2018-09-20\",\"2018-09-25\",\"2018-09-26\",\"2018-09-29\",\"2018-10-01\",\"2018-10-03\",\"2018-10-16\",\"2018-10-17\"],\"y\":[63.34,15.56,0.0,8.49,9.34,131.66,1354.52,1302.69,1170.72,907.92,941.52,681.99,854.95,0.0,8.72,310.37,71.9,96.09,100.05,100.72,136.3,286.17,268.11,275.14,386.88,371.1,400.48,608.3000000000001,651.02,586.21,620.22,663.11,522.6,972.42,828.36,1362.98,2069.67,1323.2,672.0,703.0,1097.0,1588.92,1350.74,1557.66,1242.25,1749.05,1649.45,1545.36,2424.57,2068.67,1669.59,1445.36,925.59,1520.18,2100.72,1682.19,1261.37,1107.24,1257.95,1180.35,679.75,1279.0,1047.82,1337.71,1628.8,1216.54,815.72,1049.78,987.17,1354.96,2138.63,1506.06,1572.14,1932.03,1534.41,2084.67,1871.96,1975.98,2099.07,2173.05,1632.45,1251.98,2377.65,2299.32,2233.21,2379.97,1640.88,1504.67,1078.74,2510.81,1913.99,2257.9900000000002,2420.38,1492.58,1697.4,1321.08,2375.62,2253.57,1548.57,1409.4,1545.98,1356.54,1475.92,1652.24,1851.34,1893.85,2098.76,1743.07,1268.49,1466.76,1759.79,1506.07,1198.74,1522.5,1363.7,1057.6200000000001,1080.82,1348.9,2147.14,1853.58,2365.59,1652.26,2026.03,1642.3700000000001,2561.55,2495.92,2776.34,2090.18,2272.8,1774.3899999999999,1345.84,2295.12,2667.57,2082.82,2324.56,2372.75,2421.25,2581.09,2874.25,3070.33,2369.71,3017.7,2542.05,1555.52,2321.22,3491.16,3250.55,3069.19,2611.38,3269.86,1722.06,2989.7,3530.58,2818.68,3291.77,2402.9,1844.1399999999999,1943.82,1844.62,3132.34,2335.59,2833.0,2472.87,2488.31,1815.09,2035.25,2884.77,2749.29,2635.28,3717.4,2551.85,1586.83,2400.39,2487.66,2578.47,2975.99,2262.78,1884.56,1481.38,1940.65,3208.54,3101.41,1087.93,1795.07,2415.52,1688.05,3102.32,1815.25,2894.35,2396.03,2105.51,2013.56,2014.49,2198.44,2647.06,2473.19,3363.77,3519.42,2543.99,1690.21,1878.3,3116.03,3656.78,3263.65,3530.7,3106.25,2197.5,2583.64,3835.86,4012.8,3165.09,3282.88,2382.05,1892.74,1903.21,3291.71,3080.93,2741.68,3047.0,3233.14,2407.64,2412.19,3194.59,3676.07,2975.27,3112.07,3283.19,2566.49,2814.18,3412.24,2865.92,3261.5,3433.12,3306.36,2229.34,2157.26,3461.59,4309.78,4175.81,3412.15,2921.72,2248.77,2104.73,3920.85,3149.27,2720.18,2633.88,2270.84,1912.96,2978.0,3496.75,3285.51,4087.71,3023.48,4010.35,2350.52,3189.35,3478.0,3547.42,3197.22,2203.2599999999998,2708.83,2618.97,3010.73,3641.47,5126.61,4284.41,3944.75,3192.75,2892.94,2854.4,4047.44,3382.81,3929.6,3442.66,2981.28,1929.38,2483.04,2980.2,3567.54,3436.31,3084.58,2837.29,2193.68,3139.28,3413.65,4397.17,3606.87,3612.31,2913.81,2372.49,2978.25,4687.69,3814.33,3305.17,3447.05,3544.97,2671.92,2547.3,4558.95,5235.47,4244.07,3802.44,2993.54,2600.35,3472.48,3610.91,3667.39,3255.49,3744.62,2774.87,2451.6,3051.68,3186.24,3033.53,2683.38,2819.21,3192.1,3159.06,3650.15,4549.32,3799.21,4022.37,3848.3,3379.73,3378.87,3469.15,4967.15,4350.88,3846.76,4649.27,4999.05,4034.11,3385.24,5804.14,4977.41,5058.45,6895.0,25915.91,11078.14,8356.09,8890.78,8361.92,7196.84,5303.13,6094.61,4520.88,4944.5,6911.6,5928.05,6433.01,4865.1,4514.76,3612.48,3939.86,5457.2,5127.85,4830.05,4294.64,4069.43,2610.78,2806.4,4648.5,3529.5,4059.75,2970.0,2272.7400000000002,2482.04,1201.78,2301.75,3238.31,3327.11,2744.56,2739.04,2146.84,1498.27,1443.71,4095.5099999999998,4859.36,5144.72,4590.33,4971.61,4485.11,6475.35,5174.02,6341.39,6287.39,6068.56,4635.56,4523.66,6648.43,6883.75,6052.31,5067.99,5341.54,4667.67,4063.96,6297.31,5581.88,5238.83,5085.34,5292.41,3089.68,3406.47,5540.14,5811.0,5105.28,5412.2,4801.24,4121.96,4265.59,5894.39,5740.58,5069.21,4565.19,4294.8,3819.41,3454.17,4323.26,4560.72,6382.23,5738.41,4836.04,4477.0599999999995,4504.82,5558.02,5989.14,5613.62,6092.65,4766.25,4138.25,5891.66,6377.91,6983.53,6874.23,6594.93,5663.35,5042.72,5027.83,7074.19,6855.87,6356.34,5744.19,5334.03,4597.23,5297.92,5328.24,6105.37,4850.14,7206.34,5985.74,3918.36,4982.63,7949.35,7205.53,6741.59,5870.38,5016.92,3923.65,4635.5,6176.67,5897.64,4703.32,4635.94,4186.94,3888.08,4792.34,7689.23,5824.0,5617.21,6160.01,4500.6,3506.93,4413.83,6569.92,4678.07,6421.5,5864.27,5290.17,3552.17,6034.15,6947.22,5937.21,6823.02,6630.92,4312.64,3499.55,4640.91,6719.85,6821.28,6361.45,5281.41,6010.53,3417.96,3661.8,5354.0,5277.88,6215.4800000000005,7077.95,5763.17,4301.7,4428.26,8300.12,6934.63,7388.5,7413.22,5390.82,5108.23,4888.77,8388.34,8386.17,8463.23,4491.97,4882.34,3118.44,3499.58,4261.91,4276.77,2761.24,2201.41,2248.45,2114.92,2170.43,3427.48,3858.55,3315.08,3052.63,4983.75,3673.37,4427.56,5704.0,5392.36,6061.02,5655.9800000000005,4926.79,4787.06,4786.28,7643.58,6406.27,6969.67,5202.61,4881.2,4384.03,3435.19,6305.1,5383.27,5536.28,5598.41,3945.89,3679.19,5065.98,5744.4,6658.97,6009.45,6567.08,4661.67,3241.82,4691.23,6275.79,5147.29,5943.89,5140.15,3103.13,2200.68,3143.95,3557.32,3522.2,3620.64,3677.94,4885.17,4264.44,4451.91,6485.2,5390.14,7963.66,6282.68,6030.41,4401.35,5228.66,8064.4,6571.29,7495.09,6492.0,4959.38,4855.0,5034.2,6743.36,8085.96,7877.23,7163.4,7442.4,5715.84,6688.31,9433.03,9115.4,8027.43,6694.58,6160.56,4604.8,5215.54,7263.78,7278.53,6784.61,6554.22,5931.38,4357.15,4479.11,5372.37,4507.63,3965.48,2509.69,1679.78,1138.35,1262.45,765.7,447.31,216.66,0.0,0.0,21.46,0.0,0.0,0.0,0.0,0.0,0.0,0.0,0.0,0.0,0.0,0.0,0.0,0.0,0.0],\"type\":\"scatter\"}],                        {\"template\":{\"data\":{\"barpolar\":[{\"marker\":{\"line\":{\"color\":\"#E5ECF6\",\"width\":0.5},\"pattern\":{\"fillmode\":\"overlay\",\"size\":10,\"solidity\":0.2}},\"type\":\"barpolar\"}],\"bar\":[{\"error_x\":{\"color\":\"#2a3f5f\"},\"error_y\":{\"color\":\"#2a3f5f\"},\"marker\":{\"line\":{\"color\":\"#E5ECF6\",\"width\":0.5},\"pattern\":{\"fillmode\":\"overlay\",\"size\":10,\"solidity\":0.2}},\"type\":\"bar\"}],\"carpet\":[{\"aaxis\":{\"endlinecolor\":\"#2a3f5f\",\"gridcolor\":\"white\",\"linecolor\":\"white\",\"minorgridcolor\":\"white\",\"startlinecolor\":\"#2a3f5f\"},\"baxis\":{\"endlinecolor\":\"#2a3f5f\",\"gridcolor\":\"white\",\"linecolor\":\"white\",\"minorgridcolor\":\"white\",\"startlinecolor\":\"#2a3f5f\"},\"type\":\"carpet\"}],\"choropleth\":[{\"colorbar\":{\"outlinewidth\":0,\"ticks\":\"\"},\"type\":\"choropleth\"}],\"contourcarpet\":[{\"colorbar\":{\"outlinewidth\":0,\"ticks\":\"\"},\"type\":\"contourcarpet\"}],\"contour\":[{\"colorbar\":{\"outlinewidth\":0,\"ticks\":\"\"},\"colorscale\":[[0.0,\"#0d0887\"],[0.1111111111111111,\"#46039f\"],[0.2222222222222222,\"#7201a8\"],[0.3333333333333333,\"#9c179e\"],[0.4444444444444444,\"#bd3786\"],[0.5555555555555556,\"#d8576b\"],[0.6666666666666666,\"#ed7953\"],[0.7777777777777778,\"#fb9f3a\"],[0.8888888888888888,\"#fdca26\"],[1.0,\"#f0f921\"]],\"type\":\"contour\"}],\"heatmapgl\":[{\"colorbar\":{\"outlinewidth\":0,\"ticks\":\"\"},\"colorscale\":[[0.0,\"#0d0887\"],[0.1111111111111111,\"#46039f\"],[0.2222222222222222,\"#7201a8\"],[0.3333333333333333,\"#9c179e\"],[0.4444444444444444,\"#bd3786\"],[0.5555555555555556,\"#d8576b\"],[0.6666666666666666,\"#ed7953\"],[0.7777777777777778,\"#fb9f3a\"],[0.8888888888888888,\"#fdca26\"],[1.0,\"#f0f921\"]],\"type\":\"heatmapgl\"}],\"heatmap\":[{\"colorbar\":{\"outlinewidth\":0,\"ticks\":\"\"},\"colorscale\":[[0.0,\"#0d0887\"],[0.1111111111111111,\"#46039f\"],[0.2222222222222222,\"#7201a8\"],[0.3333333333333333,\"#9c179e\"],[0.4444444444444444,\"#bd3786\"],[0.5555555555555556,\"#d8576b\"],[0.6666666666666666,\"#ed7953\"],[0.7777777777777778,\"#fb9f3a\"],[0.8888888888888888,\"#fdca26\"],[1.0,\"#f0f921\"]],\"type\":\"heatmap\"}],\"histogram2dcontour\":[{\"colorbar\":{\"outlinewidth\":0,\"ticks\":\"\"},\"colorscale\":[[0.0,\"#0d0887\"],[0.1111111111111111,\"#46039f\"],[0.2222222222222222,\"#7201a8\"],[0.3333333333333333,\"#9c179e\"],[0.4444444444444444,\"#bd3786\"],[0.5555555555555556,\"#d8576b\"],[0.6666666666666666,\"#ed7953\"],[0.7777777777777778,\"#fb9f3a\"],[0.8888888888888888,\"#fdca26\"],[1.0,\"#f0f921\"]],\"type\":\"histogram2dcontour\"}],\"histogram2d\":[{\"colorbar\":{\"outlinewidth\":0,\"ticks\":\"\"},\"colorscale\":[[0.0,\"#0d0887\"],[0.1111111111111111,\"#46039f\"],[0.2222222222222222,\"#7201a8\"],[0.3333333333333333,\"#9c179e\"],[0.4444444444444444,\"#bd3786\"],[0.5555555555555556,\"#d8576b\"],[0.6666666666666666,\"#ed7953\"],[0.7777777777777778,\"#fb9f3a\"],[0.8888888888888888,\"#fdca26\"],[1.0,\"#f0f921\"]],\"type\":\"histogram2d\"}],\"histogram\":[{\"marker\":{\"pattern\":{\"fillmode\":\"overlay\",\"size\":10,\"solidity\":0.2}},\"type\":\"histogram\"}],\"mesh3d\":[{\"colorbar\":{\"outlinewidth\":0,\"ticks\":\"\"},\"type\":\"mesh3d\"}],\"parcoords\":[{\"line\":{\"colorbar\":{\"outlinewidth\":0,\"ticks\":\"\"}},\"type\":\"parcoords\"}],\"pie\":[{\"automargin\":true,\"type\":\"pie\"}],\"scatter3d\":[{\"line\":{\"colorbar\":{\"outlinewidth\":0,\"ticks\":\"\"}},\"marker\":{\"colorbar\":{\"outlinewidth\":0,\"ticks\":\"\"}},\"type\":\"scatter3d\"}],\"scattercarpet\":[{\"marker\":{\"colorbar\":{\"outlinewidth\":0,\"ticks\":\"\"}},\"type\":\"scattercarpet\"}],\"scattergeo\":[{\"marker\":{\"colorbar\":{\"outlinewidth\":0,\"ticks\":\"\"}},\"type\":\"scattergeo\"}],\"scattergl\":[{\"marker\":{\"colorbar\":{\"outlinewidth\":0,\"ticks\":\"\"}},\"type\":\"scattergl\"}],\"scattermapbox\":[{\"marker\":{\"colorbar\":{\"outlinewidth\":0,\"ticks\":\"\"}},\"type\":\"scattermapbox\"}],\"scatterpolargl\":[{\"marker\":{\"colorbar\":{\"outlinewidth\":0,\"ticks\":\"\"}},\"type\":\"scatterpolargl\"}],\"scatterpolar\":[{\"marker\":{\"colorbar\":{\"outlinewidth\":0,\"ticks\":\"\"}},\"type\":\"scatterpolar\"}],\"scatter\":[{\"marker\":{\"colorbar\":{\"outlinewidth\":0,\"ticks\":\"\"}},\"type\":\"scatter\"}],\"scatterternary\":[{\"marker\":{\"colorbar\":{\"outlinewidth\":0,\"ticks\":\"\"}},\"type\":\"scatterternary\"}],\"surface\":[{\"colorbar\":{\"outlinewidth\":0,\"ticks\":\"\"},\"colorscale\":[[0.0,\"#0d0887\"],[0.1111111111111111,\"#46039f\"],[0.2222222222222222,\"#7201a8\"],[0.3333333333333333,\"#9c179e\"],[0.4444444444444444,\"#bd3786\"],[0.5555555555555556,\"#d8576b\"],[0.6666666666666666,\"#ed7953\"],[0.7777777777777778,\"#fb9f3a\"],[0.8888888888888888,\"#fdca26\"],[1.0,\"#f0f921\"]],\"type\":\"surface\"}],\"table\":[{\"cells\":{\"fill\":{\"color\":\"#EBF0F8\"},\"line\":{\"color\":\"white\"}},\"header\":{\"fill\":{\"color\":\"#C8D4E3\"},\"line\":{\"color\":\"white\"}},\"type\":\"table\"}]},\"layout\":{\"annotationdefaults\":{\"arrowcolor\":\"#2a3f5f\",\"arrowhead\":0,\"arrowwidth\":1},\"autotypenumbers\":\"strict\",\"coloraxis\":{\"colorbar\":{\"outlinewidth\":0,\"ticks\":\"\"}},\"colorscale\":{\"diverging\":[[0,\"#8e0152\"],[0.1,\"#c51b7d\"],[0.2,\"#de77ae\"],[0.3,\"#f1b6da\"],[0.4,\"#fde0ef\"],[0.5,\"#f7f7f7\"],[0.6,\"#e6f5d0\"],[0.7,\"#b8e186\"],[0.8,\"#7fbc41\"],[0.9,\"#4d9221\"],[1,\"#276419\"]],\"sequential\":[[0.0,\"#0d0887\"],[0.1111111111111111,\"#46039f\"],[0.2222222222222222,\"#7201a8\"],[0.3333333333333333,\"#9c179e\"],[0.4444444444444444,\"#bd3786\"],[0.5555555555555556,\"#d8576b\"],[0.6666666666666666,\"#ed7953\"],[0.7777777777777778,\"#fb9f3a\"],[0.8888888888888888,\"#fdca26\"],[1.0,\"#f0f921\"]],\"sequentialminus\":[[0.0,\"#0d0887\"],[0.1111111111111111,\"#46039f\"],[0.2222222222222222,\"#7201a8\"],[0.3333333333333333,\"#9c179e\"],[0.4444444444444444,\"#bd3786\"],[0.5555555555555556,\"#d8576b\"],[0.6666666666666666,\"#ed7953\"],[0.7777777777777778,\"#fb9f3a\"],[0.8888888888888888,\"#fdca26\"],[1.0,\"#f0f921\"]]},\"colorway\":[\"#636efa\",\"#EF553B\",\"#00cc96\",\"#ab63fa\",\"#FFA15A\",\"#19d3f3\",\"#FF6692\",\"#B6E880\",\"#FF97FF\",\"#FECB52\"],\"font\":{\"color\":\"#2a3f5f\"},\"geo\":{\"bgcolor\":\"white\",\"lakecolor\":\"white\",\"landcolor\":\"#E5ECF6\",\"showlakes\":true,\"showland\":true,\"subunitcolor\":\"white\"},\"hoverlabel\":{\"align\":\"left\"},\"hovermode\":\"closest\",\"mapbox\":{\"style\":\"light\"},\"paper_bgcolor\":\"white\",\"plot_bgcolor\":\"#E5ECF6\",\"polar\":{\"angularaxis\":{\"gridcolor\":\"white\",\"linecolor\":\"white\",\"ticks\":\"\"},\"bgcolor\":\"#E5ECF6\",\"radialaxis\":{\"gridcolor\":\"white\",\"linecolor\":\"white\",\"ticks\":\"\"}},\"scene\":{\"xaxis\":{\"backgroundcolor\":\"#E5ECF6\",\"gridcolor\":\"white\",\"gridwidth\":2,\"linecolor\":\"white\",\"showbackground\":true,\"ticks\":\"\",\"zerolinecolor\":\"white\"},\"yaxis\":{\"backgroundcolor\":\"#E5ECF6\",\"gridcolor\":\"white\",\"gridwidth\":2,\"linecolor\":\"white\",\"showbackground\":true,\"ticks\":\"\",\"zerolinecolor\":\"white\"},\"zaxis\":{\"backgroundcolor\":\"#E5ECF6\",\"gridcolor\":\"white\",\"gridwidth\":2,\"linecolor\":\"white\",\"showbackground\":true,\"ticks\":\"\",\"zerolinecolor\":\"white\"}},\"shapedefaults\":{\"line\":{\"color\":\"#2a3f5f\"}},\"ternary\":{\"aaxis\":{\"gridcolor\":\"white\",\"linecolor\":\"white\",\"ticks\":\"\"},\"baxis\":{\"gridcolor\":\"white\",\"linecolor\":\"white\",\"ticks\":\"\"},\"bgcolor\":\"#E5ECF6\",\"caxis\":{\"gridcolor\":\"white\",\"linecolor\":\"white\",\"ticks\":\"\"}},\"title\":{\"x\":0.05},\"xaxis\":{\"automargin\":true,\"gridcolor\":\"white\",\"linecolor\":\"white\",\"ticks\":\"\",\"title\":{\"standoff\":15},\"zerolinecolor\":\"white\",\"zerolinewidth\":2},\"yaxis\":{\"automargin\":true,\"gridcolor\":\"white\",\"linecolor\":\"white\",\"ticks\":\"\",\"title\":{\"standoff\":15},\"zerolinecolor\":\"white\",\"zerolinewidth\":2}}},\"title\":{\"text\":\"Product and freight value by date\"},\"xaxis\":{\"rangeselector\":{\"buttons\":[{\"count\":1,\"label\":\"1m\",\"step\":\"month\",\"stepmode\":\"backward\"},{\"count\":6,\"label\":\"6m\",\"step\":\"month\",\"stepmode\":\"backward\"},{\"count\":12,\"label\":\"12m\",\"step\":\"month\",\"stepmode\":\"backward\"},{\"step\":\"all\"}]},\"rangeslider\":{\"visible\":true},\"type\":\"date\"}},                        {\"responsive\": true}                    ).then(function(){\n",
              "                            \n",
              "var gd = document.getElementById('1a175278-c4ab-4d2a-9312-c7112b7d3eed');\n",
              "var x = new MutationObserver(function (mutations, observer) {{\n",
              "        var display = window.getComputedStyle(gd).display;\n",
              "        if (!display || display === 'none') {{\n",
              "            console.log([gd, 'removed!']);\n",
              "            Plotly.purge(gd);\n",
              "            observer.disconnect();\n",
              "        }}\n",
              "}});\n",
              "\n",
              "// Listen for the removal of the full notebook cells\n",
              "var notebookContainer = gd.closest('#notebook-container');\n",
              "if (notebookContainer) {{\n",
              "    x.observe(notebookContainer, {childList: true});\n",
              "}}\n",
              "\n",
              "// Listen for the clearing of the current output cell\n",
              "var outputEl = gd.closest('.output');\n",
              "if (outputEl) {{\n",
              "    x.observe(outputEl, {childList: true});\n",
              "}}\n",
              "\n",
              "                        })                };                            </script>        </div>\n",
              "</body>\n",
              "</html>"
            ]
          },
          "metadata": {}
        },
        {
          "output_type": "display_data",
          "data": {
            "text/html": [
              "<html>\n",
              "<head><meta charset=\"utf-8\" /></head>\n",
              "<body>\n",
              "    <div>            <script src=\"https://cdnjs.cloudflare.com/ajax/libs/mathjax/2.7.5/MathJax.js?config=TeX-AMS-MML_SVG\"></script><script type=\"text/javascript\">if (window.MathJax) {MathJax.Hub.Config({SVG: {font: \"STIX-Web\"}});}</script>                <script type=\"text/javascript\">window.PlotlyConfig = {MathJaxConfig: 'local'};</script>\n",
              "        <script src=\"https://cdn.plot.ly/plotly-2.8.3.min.js\"></script>                <div id=\"917a5cf6-effb-45ff-b46a-a95f72461b31\" class=\"plotly-graph-div\" style=\"height:420px; width:800px;\"></div>            <script type=\"text/javascript\">                                    window.PLOTLYENV=window.PLOTLYENV || {};                                    if (document.getElementById(\"917a5cf6-effb-45ff-b46a-a95f72461b31\")) {                    Plotly.newPlot(                        \"917a5cf6-effb-45ff-b46a-a95f72461b31\",                        [{\"x\":[\"2016-09-30T00:00:00\",\"2016-10-31T00:00:00\",\"2016-11-30T00:00:00\",\"2016-12-31T00:00:00\",\"2017-01-31T00:00:00\",\"2017-02-28T00:00:00\",\"2017-03-31T00:00:00\",\"2017-04-30T00:00:00\",\"2017-05-31T00:00:00\",\"2017-06-30T00:00:00\",\"2017-07-31T00:00:00\",\"2017-08-31T00:00:00\",\"2017-09-30T00:00:00\",\"2017-10-31T00:00:00\",\"2017-11-30T00:00:00\",\"2017-12-31T00:00:00\",\"2018-01-31T00:00:00\",\"2018-02-28T00:00:00\",\"2018-03-31T00:00:00\",\"2018-04-30T00:00:00\",\"2018-05-31T00:00:00\",\"2018-06-30T00:00:00\",\"2018-07-31T00:00:00\",\"2018-08-31T00:00:00\",\"2018-09-30T00:00:00\",\"2018-10-31T00:00:00\"],\"y\":[267.36,49634.35,0.0,10.9,121087.9,248563.02,376010.7,360738.17,509639.63,436550.89,501299.7,578588.99,626752.17,667869.15,1017758.83,746717.15,955658.74,853591.21,986867.05,998893.07,997066.66,865956.24,897496.14,854760.45,145.0,0.0],\"type\":\"bar\"}],                        {\"height\":420,\"template\":{\"data\":{\"barpolar\":[{\"marker\":{\"line\":{\"color\":\"#E5ECF6\",\"width\":0.5},\"pattern\":{\"fillmode\":\"overlay\",\"size\":10,\"solidity\":0.2}},\"type\":\"barpolar\"}],\"bar\":[{\"error_x\":{\"color\":\"#2a3f5f\"},\"error_y\":{\"color\":\"#2a3f5f\"},\"marker\":{\"line\":{\"color\":\"#E5ECF6\",\"width\":0.5},\"pattern\":{\"fillmode\":\"overlay\",\"size\":10,\"solidity\":0.2}},\"type\":\"bar\"}],\"carpet\":[{\"aaxis\":{\"endlinecolor\":\"#2a3f5f\",\"gridcolor\":\"white\",\"linecolor\":\"white\",\"minorgridcolor\":\"white\",\"startlinecolor\":\"#2a3f5f\"},\"baxis\":{\"endlinecolor\":\"#2a3f5f\",\"gridcolor\":\"white\",\"linecolor\":\"white\",\"minorgridcolor\":\"white\",\"startlinecolor\":\"#2a3f5f\"},\"type\":\"carpet\"}],\"choropleth\":[{\"colorbar\":{\"outlinewidth\":0,\"ticks\":\"\"},\"type\":\"choropleth\"}],\"contourcarpet\":[{\"colorbar\":{\"outlinewidth\":0,\"ticks\":\"\"},\"type\":\"contourcarpet\"}],\"contour\":[{\"colorbar\":{\"outlinewidth\":0,\"ticks\":\"\"},\"colorscale\":[[0.0,\"#0d0887\"],[0.1111111111111111,\"#46039f\"],[0.2222222222222222,\"#7201a8\"],[0.3333333333333333,\"#9c179e\"],[0.4444444444444444,\"#bd3786\"],[0.5555555555555556,\"#d8576b\"],[0.6666666666666666,\"#ed7953\"],[0.7777777777777778,\"#fb9f3a\"],[0.8888888888888888,\"#fdca26\"],[1.0,\"#f0f921\"]],\"type\":\"contour\"}],\"heatmapgl\":[{\"colorbar\":{\"outlinewidth\":0,\"ticks\":\"\"},\"colorscale\":[[0.0,\"#0d0887\"],[0.1111111111111111,\"#46039f\"],[0.2222222222222222,\"#7201a8\"],[0.3333333333333333,\"#9c179e\"],[0.4444444444444444,\"#bd3786\"],[0.5555555555555556,\"#d8576b\"],[0.6666666666666666,\"#ed7953\"],[0.7777777777777778,\"#fb9f3a\"],[0.8888888888888888,\"#fdca26\"],[1.0,\"#f0f921\"]],\"type\":\"heatmapgl\"}],\"heatmap\":[{\"colorbar\":{\"outlinewidth\":0,\"ticks\":\"\"},\"colorscale\":[[0.0,\"#0d0887\"],[0.1111111111111111,\"#46039f\"],[0.2222222222222222,\"#7201a8\"],[0.3333333333333333,\"#9c179e\"],[0.4444444444444444,\"#bd3786\"],[0.5555555555555556,\"#d8576b\"],[0.6666666666666666,\"#ed7953\"],[0.7777777777777778,\"#fb9f3a\"],[0.8888888888888888,\"#fdca26\"],[1.0,\"#f0f921\"]],\"type\":\"heatmap\"}],\"histogram2dcontour\":[{\"colorbar\":{\"outlinewidth\":0,\"ticks\":\"\"},\"colorscale\":[[0.0,\"#0d0887\"],[0.1111111111111111,\"#46039f\"],[0.2222222222222222,\"#7201a8\"],[0.3333333333333333,\"#9c179e\"],[0.4444444444444444,\"#bd3786\"],[0.5555555555555556,\"#d8576b\"],[0.6666666666666666,\"#ed7953\"],[0.7777777777777778,\"#fb9f3a\"],[0.8888888888888888,\"#fdca26\"],[1.0,\"#f0f921\"]],\"type\":\"histogram2dcontour\"}],\"histogram2d\":[{\"colorbar\":{\"outlinewidth\":0,\"ticks\":\"\"},\"colorscale\":[[0.0,\"#0d0887\"],[0.1111111111111111,\"#46039f\"],[0.2222222222222222,\"#7201a8\"],[0.3333333333333333,\"#9c179e\"],[0.4444444444444444,\"#bd3786\"],[0.5555555555555556,\"#d8576b\"],[0.6666666666666666,\"#ed7953\"],[0.7777777777777778,\"#fb9f3a\"],[0.8888888888888888,\"#fdca26\"],[1.0,\"#f0f921\"]],\"type\":\"histogram2d\"}],\"histogram\":[{\"marker\":{\"pattern\":{\"fillmode\":\"overlay\",\"size\":10,\"solidity\":0.2}},\"type\":\"histogram\"}],\"mesh3d\":[{\"colorbar\":{\"outlinewidth\":0,\"ticks\":\"\"},\"type\":\"mesh3d\"}],\"parcoords\":[{\"line\":{\"colorbar\":{\"outlinewidth\":0,\"ticks\":\"\"}},\"type\":\"parcoords\"}],\"pie\":[{\"automargin\":true,\"type\":\"pie\"}],\"scatter3d\":[{\"line\":{\"colorbar\":{\"outlinewidth\":0,\"ticks\":\"\"}},\"marker\":{\"colorbar\":{\"outlinewidth\":0,\"ticks\":\"\"}},\"type\":\"scatter3d\"}],\"scattercarpet\":[{\"marker\":{\"colorbar\":{\"outlinewidth\":0,\"ticks\":\"\"}},\"type\":\"scattercarpet\"}],\"scattergeo\":[{\"marker\":{\"colorbar\":{\"outlinewidth\":0,\"ticks\":\"\"}},\"type\":\"scattergeo\"}],\"scattergl\":[{\"marker\":{\"colorbar\":{\"outlinewidth\":0,\"ticks\":\"\"}},\"type\":\"scattergl\"}],\"scattermapbox\":[{\"marker\":{\"colorbar\":{\"outlinewidth\":0,\"ticks\":\"\"}},\"type\":\"scattermapbox\"}],\"scatterpolargl\":[{\"marker\":{\"colorbar\":{\"outlinewidth\":0,\"ticks\":\"\"}},\"type\":\"scatterpolargl\"}],\"scatterpolar\":[{\"marker\":{\"colorbar\":{\"outlinewidth\":0,\"ticks\":\"\"}},\"type\":\"scatterpolar\"}],\"scatter\":[{\"marker\":{\"colorbar\":{\"outlinewidth\":0,\"ticks\":\"\"}},\"type\":\"scatter\"}],\"scatterternary\":[{\"marker\":{\"colorbar\":{\"outlinewidth\":0,\"ticks\":\"\"}},\"type\":\"scatterternary\"}],\"surface\":[{\"colorbar\":{\"outlinewidth\":0,\"ticks\":\"\"},\"colorscale\":[[0.0,\"#0d0887\"],[0.1111111111111111,\"#46039f\"],[0.2222222222222222,\"#7201a8\"],[0.3333333333333333,\"#9c179e\"],[0.4444444444444444,\"#bd3786\"],[0.5555555555555556,\"#d8576b\"],[0.6666666666666666,\"#ed7953\"],[0.7777777777777778,\"#fb9f3a\"],[0.8888888888888888,\"#fdca26\"],[1.0,\"#f0f921\"]],\"type\":\"surface\"}],\"table\":[{\"cells\":{\"fill\":{\"color\":\"#EBF0F8\"},\"line\":{\"color\":\"white\"}},\"header\":{\"fill\":{\"color\":\"#C8D4E3\"},\"line\":{\"color\":\"white\"}},\"type\":\"table\"}]},\"layout\":{\"annotationdefaults\":{\"arrowcolor\":\"#2a3f5f\",\"arrowhead\":0,\"arrowwidth\":1},\"autotypenumbers\":\"strict\",\"coloraxis\":{\"colorbar\":{\"outlinewidth\":0,\"ticks\":\"\"}},\"colorscale\":{\"diverging\":[[0,\"#8e0152\"],[0.1,\"#c51b7d\"],[0.2,\"#de77ae\"],[0.3,\"#f1b6da\"],[0.4,\"#fde0ef\"],[0.5,\"#f7f7f7\"],[0.6,\"#e6f5d0\"],[0.7,\"#b8e186\"],[0.8,\"#7fbc41\"],[0.9,\"#4d9221\"],[1,\"#276419\"]],\"sequential\":[[0.0,\"#0d0887\"],[0.1111111111111111,\"#46039f\"],[0.2222222222222222,\"#7201a8\"],[0.3333333333333333,\"#9c179e\"],[0.4444444444444444,\"#bd3786\"],[0.5555555555555556,\"#d8576b\"],[0.6666666666666666,\"#ed7953\"],[0.7777777777777778,\"#fb9f3a\"],[0.8888888888888888,\"#fdca26\"],[1.0,\"#f0f921\"]],\"sequentialminus\":[[0.0,\"#0d0887\"],[0.1111111111111111,\"#46039f\"],[0.2222222222222222,\"#7201a8\"],[0.3333333333333333,\"#9c179e\"],[0.4444444444444444,\"#bd3786\"],[0.5555555555555556,\"#d8576b\"],[0.6666666666666666,\"#ed7953\"],[0.7777777777777778,\"#fb9f3a\"],[0.8888888888888888,\"#fdca26\"],[1.0,\"#f0f921\"]]},\"colorway\":[\"#636efa\",\"#EF553B\",\"#00cc96\",\"#ab63fa\",\"#FFA15A\",\"#19d3f3\",\"#FF6692\",\"#B6E880\",\"#FF97FF\",\"#FECB52\"],\"font\":{\"color\":\"#2a3f5f\"},\"geo\":{\"bgcolor\":\"white\",\"lakecolor\":\"white\",\"landcolor\":\"#E5ECF6\",\"showlakes\":true,\"showland\":true,\"subunitcolor\":\"white\"},\"hoverlabel\":{\"align\":\"left\"},\"hovermode\":\"closest\",\"mapbox\":{\"style\":\"light\"},\"paper_bgcolor\":\"white\",\"plot_bgcolor\":\"#E5ECF6\",\"polar\":{\"angularaxis\":{\"gridcolor\":\"white\",\"linecolor\":\"white\",\"ticks\":\"\"},\"bgcolor\":\"#E5ECF6\",\"radialaxis\":{\"gridcolor\":\"white\",\"linecolor\":\"white\",\"ticks\":\"\"}},\"scene\":{\"xaxis\":{\"backgroundcolor\":\"#E5ECF6\",\"gridcolor\":\"white\",\"gridwidth\":2,\"linecolor\":\"white\",\"showbackground\":true,\"ticks\":\"\",\"zerolinecolor\":\"white\"},\"yaxis\":{\"backgroundcolor\":\"#E5ECF6\",\"gridcolor\":\"white\",\"gridwidth\":2,\"linecolor\":\"white\",\"showbackground\":true,\"ticks\":\"\",\"zerolinecolor\":\"white\"},\"zaxis\":{\"backgroundcolor\":\"#E5ECF6\",\"gridcolor\":\"white\",\"gridwidth\":2,\"linecolor\":\"white\",\"showbackground\":true,\"ticks\":\"\",\"zerolinecolor\":\"white\"}},\"shapedefaults\":{\"line\":{\"color\":\"#2a3f5f\"}},\"ternary\":{\"aaxis\":{\"gridcolor\":\"white\",\"linecolor\":\"white\",\"ticks\":\"\"},\"baxis\":{\"gridcolor\":\"white\",\"linecolor\":\"white\",\"ticks\":\"\"},\"bgcolor\":\"#E5ECF6\",\"caxis\":{\"gridcolor\":\"white\",\"linecolor\":\"white\",\"ticks\":\"\"}},\"title\":{\"x\":0.05},\"xaxis\":{\"automargin\":true,\"gridcolor\":\"white\",\"linecolor\":\"white\",\"ticks\":\"\",\"title\":{\"standoff\":15},\"zerolinecolor\":\"white\",\"zerolinewidth\":2},\"yaxis\":{\"automargin\":true,\"gridcolor\":\"white\",\"linecolor\":\"white\",\"ticks\":\"\",\"title\":{\"standoff\":15},\"zerolinecolor\":\"white\",\"zerolinewidth\":2}}},\"title\":{\"text\":\"Sales per month (product value)\"},\"width\":800},                        {\"responsive\": true}                    ).then(function(){\n",
              "                            \n",
              "var gd = document.getElementById('917a5cf6-effb-45ff-b46a-a95f72461b31');\n",
              "var x = new MutationObserver(function (mutations, observer) {{\n",
              "        var display = window.getComputedStyle(gd).display;\n",
              "        if (!display || display === 'none') {{\n",
              "            console.log([gd, 'removed!']);\n",
              "            Plotly.purge(gd);\n",
              "            observer.disconnect();\n",
              "        }}\n",
              "}});\n",
              "\n",
              "// Listen for the removal of the full notebook cells\n",
              "var notebookContainer = gd.closest('#notebook-container');\n",
              "if (notebookContainer) {{\n",
              "    x.observe(notebookContainer, {childList: true});\n",
              "}}\n",
              "\n",
              "// Listen for the clearing of the current output cell\n",
              "var outputEl = gd.closest('.output');\n",
              "if (outputEl) {{\n",
              "    x.observe(outputEl, {childList: true});\n",
              "}}\n",
              "\n",
              "                        })                };                            </script>        </div>\n",
              "</body>\n",
              "</html>"
            ]
          },
          "metadata": {}
        }
      ],
      "source": [
        "#Valor do produto e frete por data\n",
        "from plotly import tools\n",
        "import matplotlib.pyplot as plt\n",
        "from plotly.offline import init_notebook_mode, iplot\n",
        "import plotly.graph_objs as go\n",
        "import colorlover as cl\n",
        "# Others\n",
        "import warnings\n",
        "# Product value by date\n",
        "df_orders['datetime'] =  pd.to_datetime(df_orders['order_purchase_timestamp'])\n",
        "value_date = df_orders.groupby([df_orders['datetime'].dt.date])['price'].sum()\n",
        "freight_date = df_orders.groupby([df_orders['datetime'].dt.date])['freight_value'].sum()\n",
        "# Plot timeseries\n",
        "trace0 = go.Scatter(x=value_date.index.astype(str), y=value_date.values, opacity = 0.8, name='Product value')\n",
        "trace1 = go.Scatter(x=freight_date.index.astype(str), y=freight_date.values, opacity = 0.8, name='Freight value')\n",
        "layout = dict(\n",
        "    title= \"Product and freight value by date\",\n",
        "    xaxis=dict(\n",
        "        rangeselector=dict(\n",
        "            buttons=list([\n",
        "                dict(count=1, label='1m', step='month', stepmode='backward'),\n",
        "                dict(count=6, label='6m', step='month', stepmode='backward'),\n",
        "                dict(count=12, label='12m', step='month', stepmode='backward'),\n",
        "                dict(step='all')\n",
        "            ])\n",
        "        ),\n",
        "        rangeslider=dict(visible = True),\n",
        "        type='date'\n",
        "    )\n",
        ")\n",
        "fig = dict(data= [trace0, trace1], layout=layout)\n",
        "iplot(fig)\n",
        "\n",
        "# Sales for month\n",
        "value_month = df_orders[['datetime', 'price']].copy()\n",
        "value_month.set_index('datetime', inplace=True)\n",
        "value_month = value_month.groupby(pd.Grouper(freq=\"M\"))['price'].sum()\n",
        "trace = go.Bar(x= value_month.index, y= value_month.values)\n",
        "layout = go.Layout(title='Sales per month (product value)', height=420, width=800)\n",
        "fig = go.Figure(data=[trace], layout=layout)\n",
        "iplot(fig)\n"
      ]
    },
    {
      "cell_type": "code",
      "source": [
        "#Funções Plot graficos\n",
        "import seaborn as sns\n",
        "def format_spines(ax, right_border=True):\n",
        "    \"\"\"\n",
        "    This function sets up borders from an axis and personalize colors\n",
        "    Input:\n",
        "        Axis and a flag for deciding or not to plot the right border\n",
        "    Returns:\n",
        "        Plot configuration\n",
        "    \"\"\"\n",
        "    # Setting up colors\n",
        "    ax.spines['bottom'].set_color('#CCCCCC')\n",
        "    ax.spines['left'].set_color('#CCCCCC')\n",
        "    ax.spines['top'].set_visible(False)\n",
        "    if right_border:\n",
        "        ax.spines['right'].set_color('#CCCCCC')\n",
        "    else:\n",
        "        ax.spines['right'].set_color('#FFFFFF')\n",
        "    ax.patch.set_facecolor('#FFFFFF')\n",
        "\n",
        "def single_countplot(df, ax, x=None, y=None, top=None, order=True, hue=False, palette='plasma',\n",
        "                     width=0.75, sub_width=0.3, sub_size=12):\n",
        "    \"\"\"\n",
        "    Parâmetros\n",
        "    ----------\n",
        "    classifiers: conjunto de classificadores em forma de dicionário [dict]\n",
        "    X: array com os dados a serem utilizados no treinamento [np.array]\n",
        "    y: array com o vetor target do modelo [np.array]\n",
        "    Retorno\n",
        "    -------\n",
        "    None\n",
        "    \"\"\"\n",
        "\n",
        "    # Verificando plotagem por quebra de alguma variável categórica\n",
        "    ncount = len(df)\n",
        "    if x:\n",
        "        col = x\n",
        "    else:\n",
        "        col = y\n",
        "\n",
        "    # Verificando a plotagem de top categorias\n",
        "    if top is not None:\n",
        "        cat_count = df[col].value_counts()\n",
        "        top_categories = cat_count[:top].index\n",
        "        df = df[df[col].isin(top_categories)]\n",
        "\n",
        "    # Validando demais argumentos e plotando gráfico\n",
        "    if hue != False:\n",
        "        if order:\n",
        "            sns.countplot(x=x, y=y, data=df, palette=palette, ax=ax, order=df[col].value_counts().index, hue=hue)\n",
        "        else:\n",
        "            sns.countplot(x=x, y=y, data=df, palette=palette, ax=ax, hue=hue)\n",
        "    else:\n",
        "        if order:\n",
        "            sns.countplot(x=x, y=y, data=df, palette=palette, ax=ax, order=df[col].value_counts().index)\n",
        "        else:\n",
        "            sns.countplot(x=x, y=y, data=df, palette=palette, ax=ax)\n",
        "\n",
        "    # Formatando eixos\n",
        "    format_spines(ax, right_border=False)\n",
        "\n",
        "    # Inserindo rótulo de percentual\n",
        "    if x:\n",
        "        for p in ax.patches:\n",
        "            x = p.get_bbox().get_points()[:, 0]\n",
        "            y = p.get_bbox().get_points()[1, 1]\n",
        "            ax.annotate('{}\\n{:.1f}%'.format(int(y), 100. * y / ncount), (x.mean(), y), ha='center', va='bottom')\n",
        "    else:\n",
        "        for p in ax.patches:\n",
        "            x = p.get_bbox().get_points()[1, 0]\n",
        "            y = p.get_bbox().get_points()[:, 1]\n",
        "            ax.annotate('{} ({:.1f}%)'.format(int(x), 100. * x / ncount), (x, y.mean()), va='center')\n",
        "\n"
      ],
      "metadata": {
        "id": "NNMhf1jeoJB2"
      },
      "execution_count": null,
      "outputs": []
    },
    {
      "cell_type": "code",
      "source": [
        "#Evolução do total de pedidos\n",
        "from matplotlib.gridspec import GridSpec\n",
        "fig = plt.figure(constrained_layout=True, figsize=(13, 10))\n",
        "\n",
        "# Axis definition\n",
        "gs = GridSpec(2, 2, figure=fig)\n",
        "ax1 = fig.add_subplot(gs[0, :])\n",
        "ax2 = fig.add_subplot(gs[1, 0])\n",
        "ax3 = fig.add_subplot(gs[1, 1])\n",
        "\n",
        "# Lineplot - Evolution of e-commerce orders along time \n",
        "sns.lineplot(data=df_orders['order_purchase_year_month'].value_counts().sort_index(), ax=ax1, \n",
        "             color='darkslateblue', linewidth=2)\n",
        "ax1.annotate(f'Highest orders \\nreceived', (13, 7500), xytext=(-75, -25), \n",
        "             textcoords='offset points', bbox=dict(boxstyle=\"round4\", fc=\"w\", pad=.8),\n",
        "             arrowprops=dict(arrowstyle='-|>', fc='w'), color='dimgrey', ha='center')\n",
        "ax1.annotate(f'Noise on data \\n(huge decrease)', (23, 0), xytext=(48, 25), \n",
        "             textcoords='offset points', bbox=dict(boxstyle=\"round4\", fc=\"w\", pad=.5),\n",
        "             arrowprops=dict(arrowstyle='-|>', fc='w'), color='dimgrey', ha='center')\n",
        "format_spines(ax1, right_border=False)  \n",
        "for tick in ax1.get_xticklabels():\n",
        "    tick.set_rotation(45)\n",
        "ax1.set_title('Evolution of Total Orders', size=14, color='dimgrey')\n",
        "\n",
        "# Barchart - Total of orders by day of week\n",
        "single_countplot(df_orders, x='order_purchase_dayofweek', ax=ax2, order=False, palette='YlGnBu')\n",
        "weekday_label = ['Mon', 'Tue', 'Wed', 'Thu', 'Fri', 'Sat', 'Sun']\n",
        "ax2.set_xticklabels(weekday_label)\n",
        "ax2.set_title('Total Orders by Day of Week', size=14, color='dimgrey', pad=20)\n",
        "\n",
        "# Barchart - Total of orders by time of the day\n",
        "day_color_list = ['darkslateblue', 'deepskyblue', 'darkorange', 'purple']\n",
        "single_countplot(df_orders, x='order_purchase_time_day', ax=ax3, order=False, palette=day_color_list)\n",
        "ax3.set_title('Total Orders by Time of the Day', size=14, color='dimgrey', pad=20)\n",
        "\n",
        "plt.tight_layout()\n",
        "plt.show()"
      ],
      "metadata": {
        "colab": {
          "base_uri": "https://localhost:8080/",
          "height": 803
        },
        "id": "m5mW-37FoP_P",
        "outputId": "3dd03675-c49b-4d36-f0d5-e6a27b7859f7"
      },
      "execution_count": null,
      "outputs": [
        {
          "output_type": "stream",
          "name": "stderr",
          "text": [
            "/usr/local/lib/python3.7/dist-packages/ipykernel_launcher.py:36: UserWarning:\n",
            "\n",
            "This figure was using constrained_layout==True, but that is incompatible with subplots_adjust and or tight_layout: setting constrained_layout==False. \n",
            "\n"
          ]
        },
        {
          "output_type": "display_data",
          "data": {
            "text/plain": [
              "<Figure size 936x720 with 3 Axes>"
            ],
            "image/png": "[encoded data removed]"
          },
          "metadata": {
            "needs_background": "light"
          }
        }
      ]
    },
    {
      "cell_type": "code",
      "source": [
        "import seaborn as sns\n",
        "plt.figure(figsize=(14,8))\n",
        "\n",
        "sns.countplot(master_df_with_product_categories.product_category_name_english,#\n",
        "              order=master_df_with_product_categories.product_category_name_english.value_counts().index)\n",
        "\n",
        "plt.title('What is the most in demand product category?'.title(), fontsize=20);\n",
        "plt.ylabel('count'.title(), fontsize=14);\n",
        "plt.xlabel('product category'.title(), fontsize=14);\n",
        "\n",
        "plt.xticks(rotation=90, fontsize=10);\n",
        "plt.yticks(fontsize=12)\n",
        "plt.show()"
      ],
      "metadata": {
        "id": "MD80foUeDZV3",
        "outputId": "3ac1c8e8-88a3-46ae-f69d-c03e1737dfb3",
        "colab": {
          "base_uri": "https://localhost:8080/",
          "height": 264
        }
      },
      "execution_count": null,
      "outputs": [
        {
          "output_type": "error",
          "ename": "NameError",
          "evalue": "ignored",
          "traceback": [
            "\u001b[0;31m---------------------------------------------------------------------------\u001b[0m",
            "\u001b[0;31mNameError\u001b[0m                                 Traceback (most recent call last)",
            "\u001b[0;32m<ipython-input-35-a170a01b4bb3>\u001b[0m in \u001b[0;36m<module>\u001b[0;34m\u001b[0m\n\u001b[1;32m      1\u001b[0m \u001b[0mplt\u001b[0m\u001b[0;34m.\u001b[0m\u001b[0mfigure\u001b[0m\u001b[0;34m(\u001b[0m\u001b[0mfigsize\u001b[0m\u001b[0;34m=\u001b[0m\u001b[0;34m(\u001b[0m\u001b[0;36m14\u001b[0m\u001b[0;34m,\u001b[0m\u001b[0;36m8\u001b[0m\u001b[0;34m)\u001b[0m\u001b[0;34m)\u001b[0m\u001b[0;34m\u001b[0m\u001b[0;34m\u001b[0m\u001b[0m\n\u001b[1;32m      2\u001b[0m \u001b[0;34m\u001b[0m\u001b[0m\n\u001b[0;32m----> 3\u001b[0;31m sns.countplot(master_df_with_product_categories.product_category_name_english,#\n\u001b[0m\u001b[1;32m      4\u001b[0m               order=master_df_with_product_categories.product_category_name_english.value_counts().index)\n\u001b[1;32m      5\u001b[0m \u001b[0;34m\u001b[0m\u001b[0m\n",
            "\u001b[0;31mNameError\u001b[0m: name 'master_df_with_product_categories' is not defined"
          ]
        },
        {
          "output_type": "display_data",
          "data": {
            "text/plain": [
              "<Figure size 1008x576 with 0 Axes>"
            ]
          },
          "metadata": {}
        }
      ]
    },
    {
      "cell_type": "code",
      "source": [
        "df_orders.product_category_name.value_counts()"
      ],
      "metadata": {
        "id": "vqVn-FpTENwN",
        "outputId": "ad213d50-e841-493e-945a-dbe861bcc8c1",
        "colab": {
          "base_uri": "https://localhost:8080/"
        }
      },
      "execution_count": null,
      "outputs": [
        {
          "output_type": "execute_result",
          "data": {
            "text/plain": [
              "cama_mesa_banho                  11270\n",
              "beleza_saude                      9727\n",
              "esporte_lazer                     8700\n",
              "moveis_decoracao                  8415\n",
              "informatica_acessorios            7894\n",
              "                                 ...  \n",
              "cds_dvds_musicais                   14\n",
              "la_cuisine                          14\n",
              "pc_gamer                             9\n",
              "fashion_roupa_infanto_juvenil        8\n",
              "seguros_e_servicos                   2\n",
              "Name: product_category_name, Length: 73, dtype: int64"
            ]
          },
          "metadata": {},
          "execution_count": 37
        }
      ]
    },
    {
      "cell_type": "code",
      "source": [
        "df_orders.product_id.nunique()"
      ],
      "metadata": {
        "id": "FE1BrcnrFGlc",
        "outputId": "883d280b-7901-4139-b5a0-5b9071231c55",
        "colab": {
          "base_uri": "https://localhost:8080/"
        }
      },
      "execution_count": null,
      "outputs": [
        {
          "output_type": "execute_result",
          "data": {
            "text/plain": [
              "32951"
            ]
          },
          "metadata": {},
          "execution_count": 43
        }
      ]
    },
    {
      "cell_type": "code",
      "source": [
        "df_orders[df_orders.product_id == '99a4788cb24856965c36a24e339b6058'].product_category_name"
      ],
      "metadata": {
        "id": "Ra2Dp3lUG5E3",
        "outputId": "0b60e8da-f5b7-47ec-d7ec-ccf689a600f0",
        "colab": {
          "base_uri": "https://localhost:8080/"
        }
      },
      "execution_count": null,
      "outputs": [
        {
          "output_type": "execute_result",
          "data": {
            "text/plain": [
              "336       cama_mesa_banho\n",
              "463       cama_mesa_banho\n",
              "567       cama_mesa_banho\n",
              "583       cama_mesa_banho\n",
              "640       cama_mesa_banho\n",
              "               ...       \n",
              "112521    cama_mesa_banho\n",
              "113216    cama_mesa_banho\n",
              "113281    cama_mesa_banho\n",
              "113370    cama_mesa_banho\n",
              "113563    cama_mesa_banho\n",
              "Name: product_category_name, Length: 491, dtype: object"
            ]
          },
          "metadata": {},
          "execution_count": 47
        }
      ]
    },
    {
      "cell_type": "code",
      "source": [
        "df_orders.product_id.value_counts()"
      ],
      "metadata": {
        "id": "1vb2Z45_I9yR"
      },
      "execution_count": null,
      "outputs": []
    },
    {
      "cell_type": "code",
      "source": [
        "df_orders.columns"
      ],
      "metadata": {
        "colab": {
          "base_uri": "https://localhost:8080/"
        },
        "id": "BTi4xkwZYeJV",
        "outputId": "d87c1703-8947-448f-d0a5-791de040075a"
      },
      "execution_count": null,
      "outputs": [
        {
          "output_type": "execute_result",
          "data": {
            "text/plain": [
              "Index(['order_id', 'customer_id', 'order_status', 'order_purchase_timestamp',\n",
              "       'order_approved_at', 'order_delivered_carrier_date',\n",
              "       'order_delivered_customer_date', 'order_estimated_delivery_date',\n",
              "       'order_purchase_year', 'order_purchase_month',\n",
              "       'order_purchase_month_name', 'order_purchase_year_month',\n",
              "       'order_purchase_date', 'order_purchase_day', 'order_purchase_dayofweek',\n",
              "       'order_purchase_dayofweek_name', 'order_purchase_hour',\n",
              "       'order_purchase_time_day', 'review_id', 'review_score',\n",
              "       'review_comment_title', 'review_comment_message',\n",
              "       'review_creation_date', 'review_answer_timestamp', 'order_item_id',\n",
              "       'product_id', 'seller_id', 'shipping_limit_date', 'price',\n",
              "       'freight_value', 'product_category_name', 'product_name_lenght',\n",
              "       'product_description_lenght', 'product_photos_qty', 'product_weight_g',\n",
              "       'product_length_cm', 'product_height_cm', 'product_width_cm',\n",
              "       'datetime'],\n",
              "      dtype='object')"
            ]
          },
          "metadata": {},
          "execution_count": 21
        }
      ]
    },
    {
      "cell_type": "code",
      "source": [
        "df_params = df_orders.copy()\n",
        "df_params = df_params.drop(['customer_id',\n",
        "                            'order_id',\n",
        "                            'order_item_id',\n",
        "                            'product_id',\n",
        "                            'product_description_lenght',\n",
        "                            'product_weight_g',\n",
        "                            'product_length_cm',\n",
        "                            'product_height_cm',\n",
        "                            'product_width_cm',\n",
        "                            'order_approved_at',\n",
        "                            'order_status',\n",
        "                            'shipping_limit_date',\n",
        "                            'order_delivered_carrier_date',\n",
        "                            'order_delivered_customer_date',\n",
        "                            'order_estimated_delivery_date'                         \n",
        "                            ], axis=1)\n"
      ],
      "metadata": {
        "id": "MPquHDPsRXoH"
      },
      "execution_count": null,
      "outputs": []
    },
    {
      "cell_type": "code",
      "source": [
        "df_params.shape"
      ],
      "metadata": {
        "colab": {
          "base_uri": "https://localhost:8080/"
        },
        "id": "i9ZGuz2rht3X",
        "outputId": "3f2d0fc2-ae9c-41b8-e861-ff7f451ae1aa"
      },
      "execution_count": null,
      "outputs": [
        {
          "output_type": "execute_result",
          "data": {
            "text/plain": [
              "(114092, 24)"
            ]
          },
          "metadata": {},
          "execution_count": 23
        }
      ]
    },
    {
      "cell_type": "code",
      "source": [
        "# excluding lines with missing data\n",
        "df_params = df_params.dropna()\n",
        "\n",
        "#excluding duplicated data\n",
        "df_params = df_params.drop_duplicates().reset_index()"
      ],
      "metadata": {
        "id": "jX1j0K1zbnvV"
      },
      "execution_count": null,
      "outputs": []
    },
    {
      "cell_type": "code",
      "source": [
        "df_params.shape"
      ],
      "metadata": {
        "colab": {
          "base_uri": "https://localhost:8080/"
        },
        "id": "rX1J3nQwhxgQ",
        "outputId": "00b537b4-6532-4dac-cdc3-eaf1a5b0367f"
      },
      "execution_count": null,
      "outputs": [
        {
          "output_type": "execute_result",
          "data": {
            "text/plain": [
              "(10190, 25)"
            ]
          },
          "metadata": {},
          "execution_count": 25
        }
      ]
    },
    {
      "cell_type": "code",
      "source": [
        "df_predict = df_params.copy()"
      ],
      "metadata": {
        "id": "kmDuAvGRiTnR"
      },
      "execution_count": null,
      "outputs": []
    },
    {
      "cell_type": "code",
      "source": [
        "2from sklearn.model_selection import train_test_split\n",
        "\n",
        "X_train, X_test, y_train, y_test = train_test_split(\n",
        "    df_predict[[#freq,\n",
        "                'price', 'freight_value', 'product_name_lenght', 'product_photos_qty', 'estimated_delivery_time']],\n",
        "    df_predict['payment_value'],\n",
        "     test_size=0.2, random_state=42, shuffle=False)\n",
        "\n",
        "#X, y = df_predict[freq], df_predict.payment_value"
      ],
      "metadata": {
        "colab": {
          "base_uri": "https://localhost:8080/",
          "height": 399
        },
        "id": "ECVGsBE7iNcm",
        "outputId": "328e1c01-d157-4b3f-9727-0e2f359479f4"
      },
      "execution_count": null,
      "outputs": [
        {
          "output_type": "error",
          "ename": "KeyError",
          "evalue": "ignored",
          "traceback": [
            "\u001b[0;31m---------------------------------------------------------------------------\u001b[0m",
            "\u001b[0;31mKeyError\u001b[0m                                  Traceback (most recent call last)",
            "\u001b[0;32m<ipython-input-27-eb3c081ddfd9>\u001b[0m in \u001b[0;36m<module>\u001b[0;34m\u001b[0m\n\u001b[1;32m      3\u001b[0m X_train, X_test, y_train, y_test = train_test_split(\n\u001b[1;32m      4\u001b[0m     df_predict[[#freq,\n\u001b[0;32m----> 5\u001b[0;31m                 'price', 'freight_value', 'product_name_lenght', 'product_photos_qty', 'estimated_delivery_time']],\n\u001b[0m\u001b[1;32m      6\u001b[0m     \u001b[0mdf_predict\u001b[0m\u001b[0;34m[\u001b[0m\u001b[0;34m'payment_value'\u001b[0m\u001b[0;34m]\u001b[0m\u001b[0;34m,\u001b[0m\u001b[0;34m\u001b[0m\u001b[0;34m\u001b[0m\u001b[0m\n\u001b[1;32m      7\u001b[0m      test_size=0.2, random_state=42, shuffle=False)\n",
            "\u001b[0;32m/usr/local/lib/python3.7/dist-packages/pandas/core/frame.py\u001b[0m in \u001b[0;36m__getitem__\u001b[0;34m(self, key)\u001b[0m\n\u001b[1;32m   3462\u001b[0m             \u001b[0;32mif\u001b[0m \u001b[0mis_iterator\u001b[0m\u001b[0;34m(\u001b[0m\u001b[0mkey\u001b[0m\u001b[0;34m)\u001b[0m\u001b[0;34m:\u001b[0m\u001b[0;34m\u001b[0m\u001b[0;34m\u001b[0m\u001b[0m\n\u001b[1;32m   3463\u001b[0m                 \u001b[0mkey\u001b[0m \u001b[0;34m=\u001b[0m \u001b[0mlist\u001b[0m\u001b[0;34m(\u001b[0m\u001b[0mkey\u001b[0m\u001b[0;34m)\u001b[0m\u001b[0;34m\u001b[0m\u001b[0;34m\u001b[0m\u001b[0m\n\u001b[0;32m-> 3464\u001b[0;31m             \u001b[0mindexer\u001b[0m \u001b[0;34m=\u001b[0m \u001b[0mself\u001b[0m\u001b[0;34m.\u001b[0m\u001b[0mloc\u001b[0m\u001b[0;34m.\u001b[0m\u001b[0m_get_listlike_indexer\u001b[0m\u001b[0;34m(\u001b[0m\u001b[0mkey\u001b[0m\u001b[0;34m,\u001b[0m \u001b[0maxis\u001b[0m\u001b[0;34m=\u001b[0m\u001b[0;36m1\u001b[0m\u001b[0;34m)\u001b[0m\u001b[0;34m[\u001b[0m\u001b[0;36m1\u001b[0m\u001b[0;34m]\u001b[0m\u001b[0;34m\u001b[0m\u001b[0;34m\u001b[0m\u001b[0m\n\u001b[0m\u001b[1;32m   3465\u001b[0m \u001b[0;34m\u001b[0m\u001b[0m\n\u001b[1;32m   3466\u001b[0m         \u001b[0;31m# take() does not accept boolean indexers\u001b[0m\u001b[0;34m\u001b[0m\u001b[0;34m\u001b[0m\u001b[0;34m\u001b[0m\u001b[0m\n",
            "\u001b[0;32m/usr/local/lib/python3.7/dist-packages/pandas/core/indexing.py\u001b[0m in \u001b[0;36m_get_listlike_indexer\u001b[0;34m(self, key, axis)\u001b[0m\n\u001b[1;32m   1312\u001b[0m             \u001b[0mkeyarr\u001b[0m\u001b[0;34m,\u001b[0m \u001b[0mindexer\u001b[0m\u001b[0;34m,\u001b[0m \u001b[0mnew_indexer\u001b[0m \u001b[0;34m=\u001b[0m \u001b[0max\u001b[0m\u001b[0;34m.\u001b[0m\u001b[0m_reindex_non_unique\u001b[0m\u001b[0;34m(\u001b[0m\u001b[0mkeyarr\u001b[0m\u001b[0;34m)\u001b[0m\u001b[0;34m\u001b[0m\u001b[0;34m\u001b[0m\u001b[0m\n\u001b[1;32m   1313\u001b[0m \u001b[0;34m\u001b[0m\u001b[0m\n\u001b[0;32m-> 1314\u001b[0;31m         \u001b[0mself\u001b[0m\u001b[0;34m.\u001b[0m\u001b[0m_validate_read_indexer\u001b[0m\u001b[0;34m(\u001b[0m\u001b[0mkeyarr\u001b[0m\u001b[0;34m,\u001b[0m \u001b[0mindexer\u001b[0m\u001b[0;34m,\u001b[0m \u001b[0maxis\u001b[0m\u001b[0;34m)\u001b[0m\u001b[0;34m\u001b[0m\u001b[0;34m\u001b[0m\u001b[0m\n\u001b[0m\u001b[1;32m   1315\u001b[0m \u001b[0;34m\u001b[0m\u001b[0m\n\u001b[1;32m   1316\u001b[0m         if needs_i8_conversion(ax.dtype) or isinstance(\n",
            "\u001b[0;32m/usr/local/lib/python3.7/dist-packages/pandas/core/indexing.py\u001b[0m in \u001b[0;36m_validate_read_indexer\u001b[0;34m(self, key, indexer, axis)\u001b[0m\n\u001b[1;32m   1375\u001b[0m \u001b[0;34m\u001b[0m\u001b[0m\n\u001b[1;32m   1376\u001b[0m             \u001b[0mnot_found\u001b[0m \u001b[0;34m=\u001b[0m \u001b[0mlist\u001b[0m\u001b[0;34m(\u001b[0m\u001b[0mensure_index\u001b[0m\u001b[0;34m(\u001b[0m\u001b[0mkey\u001b[0m\u001b[0;34m)\u001b[0m\u001b[0;34m[\u001b[0m\u001b[0mmissing_mask\u001b[0m\u001b[0;34m.\u001b[0m\u001b[0mnonzero\u001b[0m\u001b[0;34m(\u001b[0m\u001b[0;34m)\u001b[0m\u001b[0;34m[\u001b[0m\u001b[0;36m0\u001b[0m\u001b[0;34m]\u001b[0m\u001b[0;34m]\u001b[0m\u001b[0;34m.\u001b[0m\u001b[0munique\u001b[0m\u001b[0;34m(\u001b[0m\u001b[0;34m)\u001b[0m\u001b[0;34m)\u001b[0m\u001b[0;34m\u001b[0m\u001b[0;34m\u001b[0m\u001b[0m\n\u001b[0;32m-> 1377\u001b[0;31m             \u001b[0;32mraise\u001b[0m \u001b[0mKeyError\u001b[0m\u001b[0;34m(\u001b[0m\u001b[0;34mf\"{not_found} not in index\"\u001b[0m\u001b[0;34m)\u001b[0m\u001b[0;34m\u001b[0m\u001b[0;34m\u001b[0m\u001b[0m\n\u001b[0m\u001b[1;32m   1378\u001b[0m \u001b[0;34m\u001b[0m\u001b[0m\n\u001b[1;32m   1379\u001b[0m \u001b[0;34m\u001b[0m\u001b[0m\n",
            "\u001b[0;31mKeyError\u001b[0m: \"['estimated_delivery_time'] not in index\""
          ]
        }
      ]
    },
    {
      "cell_type": "code",
      "source": [
        "#Definindo Variaveis para o Treinamento\n",
        "#primeiro, descartamos as colunas irrelevantes\n",
        "param_df=merge_df.drop(['customer_id',\n",
        "                        'customer_unique_id',\n",
        "                        'order_id',\n",
        "                        'order_purchase_timestamp',\n",
        "                        'customer_city',\n",
        "                        'order_delivered_customer_date',\n",
        "                        'order_estimated_delivery_date',\n",
        "                        'product_id'],axis=1)\n",
        "\n",
        "param_df=param_df[param_df['order_status'].str.contains('delivered')]\n",
        "\n",
        "df_intermediate = df_complete.drop(['order_id',\n",
        "                                 'order_item_id',\n",
        "                                 'customer_id',\n",
        "                                 'shipping_limit_date',\n",
        "                                 'product_description_lenght',\n",
        "                                 'product_weight_g',\n",
        "                                 'product_length_cm',\n",
        "                                 'product_height_cm',\n",
        "                                 'product_width_cm',\n",
        "                                 'order_approved_at',\n",
        "                                 'order_delivered_carrier_date',\n",
        "                                 'order_delivered_customer_date',\n",
        "                                 'order_estimated_delivery_date',\n",
        "                                 'order_status'], axis=1)\n",
        "\n",
        "df_intermediate.tail()\n",
        "\n",
        "#criamos novos recursos, bem como o primeiro valor-alvo 'tempo de entrega'\n",
        "param_df['product_volume_cm3']=param_df['product_length_cm']*param_df['product_height_cm']*param_df['product_width_cm']\n",
        "param_df['delivery_time']=(merge_df['order_delivered_customer_date']-merge_df['order_purchase_timestamp']).dt.days\n",
        "param_df=param_df.drop(['order_status','product_length_cm','product_height_cm','product_width_cm'], axis=1)\n",
        "\n",
        "param_df.columns"
      ],
      "metadata": {
        "id": "CwJawORptSt1"
      },
      "execution_count": null,
      "outputs": []
    },
    {
      "cell_type": "code",
      "source": [
        "#Tratando Variveis do Treinamento"
      ],
      "metadata": {
        "id": "sEao6SZmtW4N"
      },
      "execution_count": null,
      "outputs": []
    },
    {
      "cell_type": "code",
      "source": [
        "#Treinando o modelo"
      ],
      "metadata": {
        "id": "CZ6ooARLtaTN"
      },
      "execution_count": null,
      "outputs": []
    }
  ],
  "metadata": {
    "kernelspec": {
      "display_name": "Python 3.9.10 64-bit",
      "language": "python",
      "name": "python3"
    },
    "language_info": {
      "codemirror_mode": {
        "name": "ipython",
        "version": 3
      },
      "file_extension": ".py",
      "mimetype": "text/x-python",
      "name": "python",
      "nbconvert_exporter": "python",
      "pygments_lexer": "ipython3",
      "version": "3.9.10"
    },
    "orig_nbformat": 4,
    "vscode": {
      "interpreter": {
        "hash": "79c2fcf11efb78f0744abc106489234ade22c782fb22a9eefc63d449062d4b3d"
      }
    },
    "colab": {
      "name": "explore_data.ipynb",
      "provenance": []
    }
  },
  "nbformat": 4,
  "nbformat_minor": 0
}